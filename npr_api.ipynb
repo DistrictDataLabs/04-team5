{
 "cells": [
  {
   "cell_type": "code",
   "execution_count": 37,
   "metadata": {
    "collapsed": false
   },
   "outputs": [],
   "source": [
    "from urllib2 import urlopen\n",
    "from json import load\n",
    "import pandas\n",
    "from pandas.io.json import json_normalize"
   ]
  },
  {
   "cell_type": "code",
   "execution_count": 2,
   "metadata": {
    "collapsed": false
   },
   "outputs": [],
   "source": [
    "##api_key = 'MDIzNDI5NDMzMDE0NTkwMTI5ODY1NzQ4Ng000'"
   ]
  },
  {
   "cell_type": "code",
   "execution_count": 112,
   "metadata": {
    "collapsed": true
   },
   "outputs": [],
   "source": [
    "url = 'http://api.npr.org/query?apiKey=MDIzNDI5NDMzMDE0NTkwMTI5ODY1NzQ4Ng000&numResults=3&format=json&id=1007'"
   ]
  },
  {
   "cell_type": "code",
   "execution_count": 113,
   "metadata": {
    "collapsed": true
   },
   "outputs": [],
   "source": [
    "response = urlopen(url)\n",
    "json_obj = load(response)"
   ]
  },
  {
   "cell_type": "code",
   "execution_count": 114,
   "metadata": {
    "collapsed": false
   },
   "outputs": [
    {
     "name": "stdout",
     "output_type": "stream",
     "text": [
      "To Help Newborns Dependent On Opioids, Hospitals Rethink Mom's Role\n",
      "Scientists Build A Live, No-Frills Cell That Could Have A Big Future\n",
      "Glitch In Your Golf Swing? Listen To It Sing\n"
     ]
    }
   ],
   "source": [
    "for story in json_obj['list']['story']:\n",
    "    print story['title']['$text']"
   ]
  },
  {
   "cell_type": "code",
   "execution_count": 116,
   "metadata": {
    "collapsed": false,
    "scrolled": true
   },
   "outputs": [
    {
     "name": "stdout",
     "output_type": "stream",
     "text": [
      "TITLE: To Help Newborns Dependent On Opioids, Hospitals Rethink Mom's Rolen\n",
      "DATE: Sat, 26 Mar 2016 14:00:00 -0400n\n",
      "TEASER: When a woman addicted to opioids gives birth, she is too often dismissed as an obstacle to her infant's health. A Connecticut hospital is challenging that attitude — and the culture of care.n\n",
      "TITLE: Scientists Build A Live, No-Frills Cell That Could Have A Big Futuren\n",
      "DATE: Sat, 26 Mar 2016 07:54:54 -0400n\n",
      "TEASER: A group of synthetic biologists report they've created an organism with a minimum number of genes required to survive and reproduce.n\n",
      "TITLE: Glitch In Your Golf Swing? Listen To It Singn\n",
      "DATE: Sat, 26 Mar 2016 07:54:00 -0400n\n",
      "TEASER: Stanford professor Jonathan Berger turns golf stroke data into sound. A nice sound means it's a good swing, a sour sound means something's not right. He tells Scott Simon how that helps people learn.n\n"
     ]
    }
   ],
   "source": [
    "for story in json_obj['list']['story']:\n",
    "\n",
    "    print 'TITLE: ' + story['title']['$text'] + 'n'\n",
    "\n",
    "    print 'DATE: ' + story['storyDate']['$text'] + 'n'\n",
    "\n",
    "    print 'TEASER: ' + story['teaser']['$text'] + 'n'\n"
   ]
  },
  {
   "cell_type": "code",
   "execution_count": 140,
   "metadata": {
    "collapsed": false
   },
   "outputs": [
    {
     "name": "stdout",
     "output_type": "stream",
     "text": [
      "Health\n",
      "Treating The Tiniest Opioid Patients\n",
      "opioid abuse\n",
      "drug addiction\n",
      "fetal outcomes\n",
      "pregnancy\n",
      "Treatments\n",
      "Hospitals\n",
      "Shots - Health News\n",
      "Humans\n",
      "Health\n",
      "Around the Nation\n",
      "Children's Health\n",
      "Mental Health\n",
      "Health Care\n",
      "Science\n",
      "U.S.\n",
      "Home Page Top Stories\n",
      "News\n",
      "Science\n",
      "Weekend Edition Saturday for March 26, 2016\n",
      "Most Popular\n",
      "Humans\n",
      "Research News\n",
      "Science\n",
      "News\n",
      "Weekend Edition Saturday\n",
      "Sports\n",
      "MPX Break\n",
      "Weekend Edition Saturday for March 26, 2016\n",
      "Most Popular\n",
      "Sports\n",
      "Science\n",
      "News\n",
      "Weekend Edition Saturday\n"
     ]
    }
   ],
   "source": [
    "for story in json_obj['list']['story']:\n",
    "    for parent in story['parent']:\n",
    "        print parent['title']['$text']"
   ]
  },
  {
   "cell_type": "code",
   "execution_count": 119,
   "metadata": {
    "collapsed": false,
    "scrolled": true
   },
   "outputs": [],
   "source": [
    "df = json_normalize(json_obj['list']['story'])"
   ]
  },
  {
   "cell_type": "code",
   "execution_count": 120,
   "metadata": {
    "collapsed": false
   },
   "outputs": [
    {
     "data": {
      "text/html": [
       "<div>\n",
       "<table border=\"1\" class=\"dataframe\">\n",
       "  <thead>\n",
       "    <tr style=\"text-align: right;\">\n",
       "      <th></th>\n",
       "      <th>audio</th>\n",
       "      <th>audioRunByDate.$text</th>\n",
       "      <th>byline</th>\n",
       "      <th>fullText.$text</th>\n",
       "      <th>id</th>\n",
       "      <th>image</th>\n",
       "      <th>lastModifiedDate.$text</th>\n",
       "      <th>link</th>\n",
       "      <th>organization</th>\n",
       "      <th>parent</th>\n",
       "      <th>...</th>\n",
       "      <th>show</th>\n",
       "      <th>slug.$text</th>\n",
       "      <th>storyDate.$text</th>\n",
       "      <th>teaser.$text</th>\n",
       "      <th>text.paragraph</th>\n",
       "      <th>textWithHtml.paragraph</th>\n",
       "      <th>thumbnail.large.$text</th>\n",
       "      <th>thumbnail.medium.$text</th>\n",
       "      <th>thumbnail.provider.$text</th>\n",
       "      <th>title.$text</th>\n",
       "    </tr>\n",
       "  </thead>\n",
       "  <tbody>\n",
       "    <tr>\n",
       "      <th>0</th>\n",
       "      <td>NaN</td>\n",
       "      <td>NaN</td>\n",
       "      <td>[{u'id': u'471290335', u'name': {u'$text': u'J...</td>\n",
       "      <td>&lt;div class=\"storytitle\"&gt;      &lt;h1&gt;To Help Newb...</td>\n",
       "      <td>471289969</td>\n",
       "      <td>[{u'src': u'https://media.npr.org/assets/img/2...</td>\n",
       "      <td>Sat, 26 Mar 2016 09:53:22 -0400</td>\n",
       "      <td>[{u'type': u'html', u'$text': u'http://www.npr...</td>\n",
       "      <td>[{u'orgAbbr': u'WNPR', u'website': {u'$text': ...</td>\n",
       "      <td>[{u'type': u'primaryTopic', u'link': [{u'type'...</td>\n",
       "      <td>...</td>\n",
       "      <td>NaN</td>\n",
       "      <td>Shots - Health News</td>\n",
       "      <td>Sat, 26 Mar 2016 14:00:00 -0400</td>\n",
       "      <td>When a woman addicted to opioids gives birth, ...</td>\n",
       "      <td>[{u'num': u'1', u'$text': u'Carolyn Rossi has ...</td>\n",
       "      <td>[{u'num': u'1', u'$text': u'Carolyn Rossi has ...</td>\n",
       "      <td>https://media.npr.org/assets/img/2016/03/25/nu...</td>\n",
       "      <td>https://media.npr.org/assets/img/2016/03/25/nu...</td>\n",
       "      <td>Courtesy of Hartford HealthCare</td>\n",
       "      <td>To Help Newborns Dependent On Opioids, Hospita...</td>\n",
       "    </tr>\n",
       "    <tr>\n",
       "      <th>1</th>\n",
       "      <td>[{u'description': {}, u'stream': {u'active': u...</td>\n",
       "      <td>NaN</td>\n",
       "      <td>NaN</td>\n",
       "      <td>NaN</td>\n",
       "      <td>471958038</td>\n",
       "      <td>NaN</td>\n",
       "      <td>Sat, 26 Mar 2016 07:54:54 -0400</td>\n",
       "      <td>[{u'type': u'html', u'$text': u'http://www.npr...</td>\n",
       "      <td>[{u'orgAbbr': u'NPR', u'website': {u'$text': u...</td>\n",
       "      <td>[{u'type': u'primaryTopic', u'slug': u'true', ...</td>\n",
       "      <td>...</td>\n",
       "      <td>[{u'program': {u'code': u'WESAT', u'$text': u'...</td>\n",
       "      <td>Science</td>\n",
       "      <td>Sat, 26 Mar 2016 07:54:54 -0400</td>\n",
       "      <td>A group of synthetic biologists report they've...</td>\n",
       "      <td>[{u'num': u'1', u'$text': u'[Copyright 2016 NP...</td>\n",
       "      <td>[{u'num': u'1', u'$text': u'&lt;div class=\"fullat...</td>\n",
       "      <td>NaN</td>\n",
       "      <td>NaN</td>\n",
       "      <td>NaN</td>\n",
       "      <td>Scientists Build A Live, No-Frills Cell That C...</td>\n",
       "    </tr>\n",
       "    <tr>\n",
       "      <th>2</th>\n",
       "      <td>[{u'description': {}, u'stream': {u'active': u...</td>\n",
       "      <td>Sat, 30 Apr 2016 01:00:00 -0400</td>\n",
       "      <td>NaN</td>\n",
       "      <td>NaN</td>\n",
       "      <td>471958080</td>\n",
       "      <td>NaN</td>\n",
       "      <td>Sat, 26 Mar 2016 09:09:37 -0400</td>\n",
       "      <td>[{u'type': u'html', u'$text': u'http://www.npr...</td>\n",
       "      <td>[{u'orgAbbr': u'NPR', u'website': {u'$text': u...</td>\n",
       "      <td>[{u'type': u'primaryTopic', u'slug': u'true', ...</td>\n",
       "      <td>...</td>\n",
       "      <td>[{u'program': {u'code': u'WESAT', u'$text': u'...</td>\n",
       "      <td>Sports</td>\n",
       "      <td>Sat, 26 Mar 2016 07:54:00 -0400</td>\n",
       "      <td>Stanford professor Jonathan Berger turns golf ...</td>\n",
       "      <td>[{u'num': u'1', u'$text': u'[Copyright 2016 NP...</td>\n",
       "      <td>[{u'num': u'1', u'$text': u'&lt;div class=\"fullat...</td>\n",
       "      <td>NaN</td>\n",
       "      <td>NaN</td>\n",
       "      <td>NaN</td>\n",
       "      <td>Glitch In Your Golf Swing? Listen To It Sing</td>\n",
       "    </tr>\n",
       "  </tbody>\n",
       "</table>\n",
       "<p>3 rows × 23 columns</p>\n",
       "</div>"
      ],
      "text/plain": [
       "                                               audio  \\\n",
       "0                                                NaN   \n",
       "1  [{u'description': {}, u'stream': {u'active': u...   \n",
       "2  [{u'description': {}, u'stream': {u'active': u...   \n",
       "\n",
       "              audioRunByDate.$text  \\\n",
       "0                              NaN   \n",
       "1                              NaN   \n",
       "2  Sat, 30 Apr 2016 01:00:00 -0400   \n",
       "\n",
       "                                              byline  \\\n",
       "0  [{u'id': u'471290335', u'name': {u'$text': u'J...   \n",
       "1                                                NaN   \n",
       "2                                                NaN   \n",
       "\n",
       "                                      fullText.$text         id  \\\n",
       "0  <div class=\"storytitle\">      <h1>To Help Newb...  471289969   \n",
       "1                                                NaN  471958038   \n",
       "2                                                NaN  471958080   \n",
       "\n",
       "                                               image  \\\n",
       "0  [{u'src': u'https://media.npr.org/assets/img/2...   \n",
       "1                                                NaN   \n",
       "2                                                NaN   \n",
       "\n",
       "            lastModifiedDate.$text  \\\n",
       "0  Sat, 26 Mar 2016 09:53:22 -0400   \n",
       "1  Sat, 26 Mar 2016 07:54:54 -0400   \n",
       "2  Sat, 26 Mar 2016 09:09:37 -0400   \n",
       "\n",
       "                                                link  \\\n",
       "0  [{u'type': u'html', u'$text': u'http://www.npr...   \n",
       "1  [{u'type': u'html', u'$text': u'http://www.npr...   \n",
       "2  [{u'type': u'html', u'$text': u'http://www.npr...   \n",
       "\n",
       "                                        organization  \\\n",
       "0  [{u'orgAbbr': u'WNPR', u'website': {u'$text': ...   \n",
       "1  [{u'orgAbbr': u'NPR', u'website': {u'$text': u...   \n",
       "2  [{u'orgAbbr': u'NPR', u'website': {u'$text': u...   \n",
       "\n",
       "                                              parent  \\\n",
       "0  [{u'type': u'primaryTopic', u'link': [{u'type'...   \n",
       "1  [{u'type': u'primaryTopic', u'slug': u'true', ...   \n",
       "2  [{u'type': u'primaryTopic', u'slug': u'true', ...   \n",
       "\n",
       "                         ...                          \\\n",
       "0                        ...                           \n",
       "1                        ...                           \n",
       "2                        ...                           \n",
       "\n",
       "                                                show           slug.$text  \\\n",
       "0                                                NaN  Shots - Health News   \n",
       "1  [{u'program': {u'code': u'WESAT', u'$text': u'...              Science   \n",
       "2  [{u'program': {u'code': u'WESAT', u'$text': u'...               Sports   \n",
       "\n",
       "                   storyDate.$text  \\\n",
       "0  Sat, 26 Mar 2016 14:00:00 -0400   \n",
       "1  Sat, 26 Mar 2016 07:54:54 -0400   \n",
       "2  Sat, 26 Mar 2016 07:54:00 -0400   \n",
       "\n",
       "                                        teaser.$text  \\\n",
       "0  When a woman addicted to opioids gives birth, ...   \n",
       "1  A group of synthetic biologists report they've...   \n",
       "2  Stanford professor Jonathan Berger turns golf ...   \n",
       "\n",
       "                                      text.paragraph  \\\n",
       "0  [{u'num': u'1', u'$text': u'Carolyn Rossi has ...   \n",
       "1  [{u'num': u'1', u'$text': u'[Copyright 2016 NP...   \n",
       "2  [{u'num': u'1', u'$text': u'[Copyright 2016 NP...   \n",
       "\n",
       "                              textWithHtml.paragraph  \\\n",
       "0  [{u'num': u'1', u'$text': u'Carolyn Rossi has ...   \n",
       "1  [{u'num': u'1', u'$text': u'<div class=\"fullat...   \n",
       "2  [{u'num': u'1', u'$text': u'<div class=\"fullat...   \n",
       "\n",
       "                               thumbnail.large.$text  \\\n",
       "0  https://media.npr.org/assets/img/2016/03/25/nu...   \n",
       "1                                                NaN   \n",
       "2                                                NaN   \n",
       "\n",
       "                              thumbnail.medium.$text  \\\n",
       "0  https://media.npr.org/assets/img/2016/03/25/nu...   \n",
       "1                                                NaN   \n",
       "2                                                NaN   \n",
       "\n",
       "          thumbnail.provider.$text  \\\n",
       "0  Courtesy of Hartford HealthCare   \n",
       "1                              NaN   \n",
       "2                              NaN   \n",
       "\n",
       "                                         title.$text  \n",
       "0  To Help Newborns Dependent On Opioids, Hospita...  \n",
       "1  Scientists Build A Live, No-Frills Cell That C...  \n",
       "2       Glitch In Your Golf Swing? Listen To It Sing  \n",
       "\n",
       "[3 rows x 23 columns]"
      ]
     },
     "execution_count": 120,
     "metadata": {},
     "output_type": "execute_result"
    }
   ],
   "source": [
    "df"
   ]
  },
  {
   "cell_type": "code",
   "execution_count": null,
   "metadata": {
    "collapsed": true
   },
   "outputs": [],
   "source": []
  }
 ],
 "metadata": {
  "kernelspec": {
   "display_name": "Python 2",
   "language": "python",
   "name": "python2"
  },
  "language_info": {
   "codemirror_mode": {
    "name": "ipython",
    "version": 2
   },
   "file_extension": ".py",
   "mimetype": "text/x-python",
   "name": "python",
   "nbconvert_exporter": "python",
   "pygments_lexer": "ipython2",
   "version": "2.7.11"
  }
 },
 "nbformat": 4,
 "nbformat_minor": 0
}
