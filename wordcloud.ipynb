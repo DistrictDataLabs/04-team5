{
 "cells": [
  {
   "cell_type": "markdown",
   "metadata": {},
   "source": [
    "### Goal: take API and format directly into a wordcloud. Should generate some kind of data using formatted json\n",
    "* Data pull initially from Judy's 00_get_NPR_API notebook"
   ]
  },
  {
   "cell_type": "code",
   "execution_count": 2,
   "metadata": {
    "collapsed": false
   },
   "outputs": [],
   "source": [
    "from urllib2 import urlopen\n",
    "from json import load, dumps\n",
    "import pandas as pd \n",
    "import json\n",
    "from pandas.io.json import json_normalize\n",
    "import pprint\n",
    "\n",
    "pd.options.display.max_columns = 50\n",
    "pd.options.display.max_rows= 50\n",
    "pd.options.display.width= 120\n",
    "\n",
    "from datetime import datetime\n",
    "import time\n",
    "import json\n",
    "import operator \n",
    "import preprocess\n",
    "from collections import Counter\n",
    "\n",
    "from pandas import ExcelWriter\n",
    "import numpy as np\n",
    "#import matplotlib.pyplot as plt -- matplotlib and seaborn creates issues w/ virtualenv\n",
    "#import seaborn as sns\n",
    "#%matplotlib inline\n",
    "#% sign \n",
    "\n",
    "# from ttp import ttp"
   ]
  },
  {
   "cell_type": "code",
   "execution_count": 3,
   "metadata": {
    "collapsed": false
   },
   "outputs": [],
   "source": [
    "data = pd.read_csv('data/npr_api_topics.csv', header=None ,names=['id','topics'])\n",
    "npr_ids=data"
   ]
  },
  {
   "cell_type": "code",
   "execution_count": 24,
   "metadata": {
    "collapsed": false
   },
   "outputs": [
    {
     "ename": "TypeError",
     "evalue": "list indices must be integers, not str",
     "output_type": "error",
     "traceback": [
      "\u001b[0;31m---------------------------------------------------------------------------\u001b[0m",
      "\u001b[0;31mTypeError\u001b[0m                                 Traceback (most recent call last)",
      "\u001b[0;32m<ipython-input-24-243c3de1876f>\u001b[0m in \u001b[0;36m<module>\u001b[0;34m()\u001b[0m\n\u001b[1;32m     23\u001b[0m \u001b[0;34m\u001b[0m\u001b[0m\n\u001b[1;32m     24\u001b[0m     \u001b[0;31m#turn into panda\u001b[0m\u001b[0;34m\u001b[0m\u001b[0;34m\u001b[0m\u001b[0m\n\u001b[0;32m---> 25\u001b[0;31m     \u001b[0mdf\u001b[0m \u001b[0;34m=\u001b[0m \u001b[0mjson_normalize\u001b[0m\u001b[0;34m(\u001b[0m\u001b[0mjson_obj\u001b[0m\u001b[0;34m[\u001b[0m\u001b[0;34m'list'\u001b[0m\u001b[0;34m]\u001b[0m\u001b[0;34m[\u001b[0m\u001b[0;34m'story'\u001b[0m\u001b[0;34m]\u001b[0m\u001b[0;34m,\u001b[0m\u001b[0;34m'id'\u001b[0m\u001b[0;34m,\u001b[0m\u001b[0;34m[\u001b[0m\u001b[0;36m2\u001b[0m\u001b[0;34m]\u001b[0m\u001b[0;34m[\u001b[0m\u001b[0;34m'text'\u001b[0m\u001b[0;34m]\u001b[0m\u001b[0;34m[\u001b[0m\u001b[0;34m'paragraph'\u001b[0m\u001b[0;34m]\u001b[0m\u001b[0;34m)\u001b[0m\u001b[0;34m\u001b[0m\u001b[0m\n\u001b[0m\u001b[1;32m     26\u001b[0m \u001b[0;34m\u001b[0m\u001b[0m\n\u001b[1;32m     27\u001b[0m     \u001b[0;31m#print df.head()\u001b[0m\u001b[0;34m\u001b[0m\u001b[0;34m\u001b[0m\u001b[0m\n",
      "\u001b[0;31mTypeError\u001b[0m: list indices must be integers, not str"
     ]
    }
   ],
   "source": [
    "#loop over topics\n",
    "all_npr = pd.DataFrame()\n",
    "\n",
    "\n",
    "for nid in npr_ids.id :\n",
    " \n",
    "\n",
    "    url = 'http://api.npr.org/query?apiKey=' \n",
    "    key = 'MDA3ODMyODk0MDEzMTA5MTc4NjAyNTc3MQ001'\n",
    "    url = url + key\n",
    "\n",
    "    #max results is 50\n",
    "    url += '&numResults=50&format=json'\n",
    "    url += '&fields=title,storyDate,teaser,text'\n",
    "    url += '&id=nid'\n",
    "    response = urlopen(url)\n",
    "    \n",
    "    json_obj = load(response)\n",
    "    \n",
    "    #pretty print\n",
    "    #pp = pprint.PrettyPrinter(indent=2)\n",
    "    #pp.pprint(json_obj)\n",
    "    \n",
    "    #turn into panda\n",
    "    df = json_normalize(json_obj['list']['story'][2]['text']['paragraph'])\n",
    "  \n",
    "    #print df.head()\n",
    "    #df['topic']=nid\n",
    "    \n",
    "    #df.shape\n",
    "    \n",
    "    #wait\n",
    "    #print nid, len(df), \"start sleeping\"\n",
    "    #sleep(61) \n",
    "    #print \"done sleeping\"\n",
    "    \n",
    "    #print results\n",
    "    \n",
    "    all_npr=all_npr.append(df, ignore_index=True)"
   ]
  },
  {
   "cell_type": "code",
   "execution_count": 64,
   "metadata": {
    "collapsed": false
   },
   "outputs": [],
   "source": [
    "#loop over each story and append to DF\n",
    "\n",
    "npr_story_text = pd.DataFrame()\n",
    "all_stories = json_normalize(json_obj['list']['story'])\n",
    "\n",
    "#print all_stories\n",
    "    \n",
    "for row in all_stories['text.paragraph']:\n",
    "    npr_story_text = npr_story_text.append(json_normalize(row))\n"
   ]
  },
  {
   "cell_type": "code",
   "execution_count": 68,
   "metadata": {
    "collapsed": false
   },
   "outputs": [],
   "source": [
    "npr_story_text.columns=['para_text','para_num']\n",
    "npr_story_text.head()\n",
    "npr_clean_text=npr_story_text.dropna()"
   ]
  },
  {
   "cell_type": "code",
   "execution_count": 69,
   "metadata": {
    "collapsed": false
   },
   "outputs": [],
   "source": [
    "from sklearn.feature_extraction.text import CountVectorizer, TfidfVectorizer\n",
    "\n",
    "story_text = npr_clean_text.para_text\n",
    "vect = CountVectorizer()\n",
    "story_text_dtm = vect.fit_transform(story_text)"
   ]
  },
  {
   "cell_type": "code",
   "execution_count": 70,
   "metadata": {
    "collapsed": false
   },
   "outputs": [
    {
     "ename": "ImportError",
     "evalue": "No module named wordcloud",
     "output_type": "error",
     "traceback": [
      "\u001b[0;31m---------------------------------------------------------------------------\u001b[0m",
      "\u001b[0;31mImportError\u001b[0m                               Traceback (most recent call last)",
      "\u001b[0;32m<ipython-input-70-12da445271f7>\u001b[0m in \u001b[0;36m<module>\u001b[0;34m()\u001b[0m\n\u001b[0;32m----> 1\u001b[0;31m \u001b[0;32mfrom\u001b[0m \u001b[0mwordcloud\u001b[0m \u001b[0;32mimport\u001b[0m \u001b[0mWordCloud\u001b[0m\u001b[0;34m,\u001b[0m \u001b[0mSTOPWORDS\u001b[0m\u001b[0;34m\u001b[0m\u001b[0m\n\u001b[0m",
      "\u001b[0;31mImportError\u001b[0m: No module named wordcloud"
     ]
    }
   ],
   "source": [
    "from wordcloud import WordCloud, STOPWORDS"
   ]
  },
  {
   "cell_type": "code",
   "execution_count": null,
   "metadata": {
    "collapsed": true
   },
   "outputs": [],
   "source": []
  }
 ],
 "metadata": {
  "kernelspec": {
   "display_name": "Python 2",
   "language": "python",
   "name": "python2"
  },
  "language_info": {
   "codemirror_mode": {
    "name": "ipython",
    "version": 2
   },
   "file_extension": ".py",
   "mimetype": "text/x-python",
   "name": "python",
   "nbconvert_exporter": "python",
   "pygments_lexer": "ipython2",
   "version": "2.7.6"
  }
 },
 "nbformat": 4,
 "nbformat_minor": 0
}
