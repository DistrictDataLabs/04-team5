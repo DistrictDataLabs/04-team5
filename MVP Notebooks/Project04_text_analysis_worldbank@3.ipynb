{
 "cells": [
  {
   "cell_type": "markdown",
   "metadata": {},
   "source": [
    "### Analyzing the World Bank's Twitter Feed, Judy Yang, DAT10 Project\n",
    "### Part 4. Text Analysis\n",
    "\n",
    "1. Tokenization, word counts\n",
    "\n",
    "2. Prediction Linear Regression\n",
    "\n",
    "3. Topic Modelling\n",
    "\n",
    "4. Predict High/Low Popular Tweets\n",
    "\n",
    "5. Term Frequency\n",
    "\n",
    "6. Sentiment Analysis"
   ]
  },
  {
   "cell_type": "code",
   "execution_count": 31,
   "metadata": {
    "collapsed": false
   },
   "outputs": [
    {
     "data": {
      "text/plain": [
       "u'/Users/judyyang/Documents/GA_DS_course/Final_Project/notebooks'"
      ]
     },
     "execution_count": 31,
     "metadata": {},
     "output_type": "execute_result"
    }
   ],
   "source": [
    "pwd"
   ]
  },
  {
   "cell_type": "code",
   "execution_count": 32,
   "metadata": {
    "collapsed": false,
    "scrolled": false
   },
   "outputs": [],
   "source": [
    "from datetime import datetime\n",
    "import time\n",
    "import json\n",
    "import operator \n",
    "import preprocess\n",
    "from collections import Counter\n",
    "#from textblob import TextBlob\n",
    "\n",
    "import pandas as pd\n",
    "from pandas import ExcelWriter\n",
    "import matplotlib.pyplot as plt\n",
    "import seaborn as sns\n",
    "%matplotlib inline\n",
    "#% sign \n",
    "\n",
    "import numpy as np\n",
    "import scipy as sp\n",
    "from sklearn.cross_validation import train_test_split\n",
    "from sklearn.feature_extraction.text import CountVectorizer, TfidfVectorizer\n",
    "from sklearn.naive_bayes import MultinomialNB\n",
    "from sklearn.linear_model import LogisticRegression\n",
    "from gensim import corpora, models, similarities\n",
    "from collections import defaultdict\n",
    "from sklearn import metrics\n",
    "from textblob import TextBlob, Word\n",
    "from nltk.stem.snowball import SnowballStemmer\n",
    "\n",
    "from ttp import ttp\n",
    "\n",
    "pd.options.display.max_columns = 50\n",
    "pd.options.display.max_rows= 50\n",
    "pd.options.display.width= 120"
   ]
  },
  {
   "cell_type": "code",
   "execution_count": 33,
   "metadata": {
    "collapsed": false
   },
   "outputs": [],
   "source": [
    "# Create excel to save outputs from this notebook\n",
    "writer = ExcelWriter('./data/Project04_outputs_worldbank_21feb2016.xlsx')"
   ]
  },
  {
   "cell_type": "code",
   "execution_count": 34,
   "metadata": {
    "collapsed": true
   },
   "outputs": [],
   "source": [
    "wb = pd.read_pickle('./data/WorldBank_all_processed_17feb_2016')"
   ]
  },
  {
   "cell_type": "code",
   "execution_count": 35,
   "metadata": {
    "collapsed": false
   },
   "outputs": [
    {
     "data": {
      "text/plain": [
       "(71287, 21)"
      ]
     },
     "execution_count": 35,
     "metadata": {},
     "output_type": "execute_result"
    }
   ],
   "source": [
    "wb = wb[(wb.is_RT==0)]\n",
    "wb.shape"
   ]
  },
  {
   "cell_type": "code",
   "execution_count": 36,
   "metadata": {
    "collapsed": false
   },
   "outputs": [],
   "source": [
    "wb=wb[wb.user_screen_name==\"WorldBank\"]"
   ]
  },
  {
   "cell_type": "code",
   "execution_count": 37,
   "metadata": {
    "collapsed": true
   },
   "outputs": [],
   "source": [
    "wb['favorite75']=np.where(wb.favorite_count>=49, 1, 0)\n",
    "wb['retweet75']=np.where(wb.retweet_count>=70, 1, 0)\n",
    "wb['favorite0']=np.where(wb.favorite_count>0, 1, 0)\n",
    "wb['retweet0']=np.where(wb.retweet_count>0, 1, 0)"
   ]
  },
  {
   "cell_type": "code",
   "execution_count": 38,
   "metadata": {
    "collapsed": false
   },
   "outputs": [
    {
     "data": {
      "text/plain": [
       "count    2830.000000\n",
       "mean        0.259364\n",
       "std         0.438363\n",
       "min         0.000000\n",
       "25%         0.000000\n",
       "50%         0.000000\n",
       "75%         1.000000\n",
       "max         1.000000\n",
       "Name: favorite75, dtype: float64"
      ]
     },
     "execution_count": 38,
     "metadata": {},
     "output_type": "execute_result"
    }
   ],
   "source": [
    "wb.favorite75.describe()"
   ]
  },
  {
   "cell_type": "code",
   "execution_count": 39,
   "metadata": {
    "collapsed": false
   },
   "outputs": [
    {
     "data": {
      "text/plain": [
       "count    2830.000000\n",
       "mean        0.258304\n",
       "std         0.437779\n",
       "min         0.000000\n",
       "25%         0.000000\n",
       "50%         0.000000\n",
       "75%         1.000000\n",
       "max         1.000000\n",
       "Name: retweet75, dtype: float64"
      ]
     },
     "execution_count": 39,
     "metadata": {},
     "output_type": "execute_result"
    }
   ],
   "source": [
    "wb.retweet75.describe()"
   ]
  },
  {
   "cell_type": "code",
   "execution_count": 40,
   "metadata": {
    "collapsed": true
   },
   "outputs": [],
   "source": [
    "wb = wb.reset_index()"
   ]
  },
  {
   "cell_type": "code",
   "execution_count": 41,
   "metadata": {
    "collapsed": false
   },
   "outputs": [
    {
     "data": {
      "text/plain": [
       "['index',\n",
       " u'id',\n",
       " u'user_screen_name',\n",
       " u'created_at',\n",
       " u'favorite_count',\n",
       " u'retweet_count',\n",
       " u'text',\n",
       " 'length',\n",
       " 'is_RT',\n",
       " 'has_ht',\n",
       " 'has_link',\n",
       " 'has_at',\n",
       " 'tags',\n",
       " 'users',\n",
       " 'text_clean',\n",
       " 'has_retweet',\n",
       " 'has_favorite',\n",
       " 'year',\n",
       " 'year_cat',\n",
       " 'year_month',\n",
       " 'hour',\n",
       " 'fav_RT_ratio',\n",
       " 'favorite75',\n",
       " 'retweet75',\n",
       " 'favorite0',\n",
       " 'retweet0']"
      ]
     },
     "execution_count": 41,
     "metadata": {},
     "output_type": "execute_result"
    }
   ],
   "source": [
    "list(wb.columns.values)"
   ]
  },
  {
   "cell_type": "markdown",
   "metadata": {},
   "source": [
    "### Check top tweets"
   ]
  },
  {
   "cell_type": "code",
   "execution_count": 42,
   "metadata": {
    "collapsed": false,
    "scrolled": false
   },
   "outputs": [],
   "source": [
    "#Save the tweets with the top retweets and favorite counts\n",
    "top_retweets=wb[(wb.retweet_count>=300)].sort_values(\"retweet_count\", ascending=False)\n",
    "top_retweets.to_excel(writer,'top_retweets')\n",
    "\n",
    "top_fav=wb[(wb.favorite_count>=300)].sort_values(\"favorite_count\", ascending=False)\n",
    "top_fav.to_excel(writer,'top_favs')"
   ]
  },
  {
   "cell_type": "markdown",
   "metadata": {},
   "source": [
    "### Calculate the likelihood of top favorite and retweet for each word/token "
   ]
  },
  {
   "cell_type": "code",
   "execution_count": 43,
   "metadata": {
    "collapsed": false
   },
   "outputs": [
    {
     "data": {
      "text/plain": [
       "CountVectorizer(analyzer='word', binary=False, decode_error=u'strict',\n",
       "        dtype=<type 'numpy.int64'>, encoding=u'utf-8', input=u'content',\n",
       "        lowercase=True, max_df=1.0, max_features=None, min_df=1,\n",
       "        ngram_range=(1, 1), preprocessor=None, stop_words='english',\n",
       "        strip_accents=None, token_pattern=u'(?u)\\\\b\\\\w\\\\w+\\\\b',\n",
       "        tokenizer=None, vocabulary=None)"
      ]
     },
     "execution_count": 43,
     "metadata": {},
     "output_type": "execute_result"
    }
   ],
   "source": [
    "# instantiate the vectorizer\n",
    "vect = CountVectorizer(stop_words='english', analyzer='word', ngram_range=(1,1))\n",
    "\n",
    "# learn the vocabulary of ALL messages and save it\n",
    "vect.fit(wb.text_clean)\n",
    "#this is a list\n",
    "all_tokens = vect.get_feature_names()\n",
    "vect"
   ]
  },
  {
   "cell_type": "code",
   "execution_count": 44,
   "metadata": {
    "collapsed": false
   },
   "outputs": [],
   "source": [
    "# create separate DataFrames for high retweet and low retweet\n",
    "rhi = wb[wb.retweet75==1]\n",
    "rlo = wb[wb.retweet75==0]\n",
    "\n",
    "fhi = wb[wb.favorite75==1]\n",
    "flo = wb[wb.favorite75==0]"
   ]
  },
  {
   "cell_type": "code",
   "execution_count": 45,
   "metadata": {
    "collapsed": false
   },
   "outputs": [],
   "source": [
    "# create document-term matrices for retweet high and low\n",
    "rhi_dtm = vect.transform(rhi.text_clean)\n",
    "rlo_dtm = vect.transform(rlo.text_clean)\n",
    "\n",
    "# count how many times EACH token appears across ALL retweet high/low messages\n",
    "rhi_counts = np.sum(rhi_dtm.toarray(), axis=0)\n",
    "rlo_counts = np.sum(rlo_dtm.toarray(), axis=0)"
   ]
  },
  {
   "cell_type": "code",
   "execution_count": 46,
   "metadata": {
    "collapsed": true
   },
   "outputs": [],
   "source": [
    "# create document-term matrices for favorite high and low\n",
    "fhi_dtm = vect.transform(fhi.text_clean)\n",
    "flo_dtm = vect.transform(flo.text_clean)\n",
    "\n",
    "# count how many times EACH token appears across ALL favorite high/low messages\n",
    "fhi_counts = np.sum(fhi_dtm.toarray(), axis=0)\n",
    "flo_counts = np.sum(flo_dtm.toarray(), axis=0)"
   ]
  },
  {
   "cell_type": "code",
   "execution_count": 47,
   "metadata": {
    "collapsed": true
   },
   "outputs": [],
   "source": [
    "# create a DataFrame of tokens with their separate favorite high and low counts\n",
    "token_counts = pd.DataFrame({'token':all_tokens, 'flo':flo_counts, 'fhi':fhi_counts, 'rlo':rlo_counts, 'rhi':rhi_counts})\n",
    "\n",
    "# add one to retweet/favorite high and low counts to avoid dividing by zero (in the step that follows)\n",
    "#pseudo counts\n",
    "token_counts['rlo'] = token_counts.rlo + 1\n",
    "token_counts['rhi'] = token_counts.rhi + 1\n",
    "token_counts['flo'] = token_counts.flo + 1\n",
    "token_counts['fhi'] = token_counts.fhi + 1\n",
    "\n",
    "# calculate ratio of high-low for each token\n",
    "token_counts['fav_ratio'] = token_counts.fhi / token_counts.flo\n",
    "token_counts['retweet_ratio'] = token_counts.rhi / token_counts.rlo"
   ]
  },
  {
   "cell_type": "code",
   "execution_count": 48,
   "metadata": {
    "collapsed": false
   },
   "outputs": [
    {
     "data": {
      "text/html": [
       "<div>\n",
       "<table border=\"1\" class=\"dataframe\">\n",
       "  <thead>\n",
       "    <tr style=\"text-align: right;\">\n",
       "      <th></th>\n",
       "      <th>token</th>\n",
       "      <th>fhi</th>\n",
       "      <th>flo</th>\n",
       "      <th>rhi</th>\n",
       "      <th>rlo</th>\n",
       "      <th>fav_ratio</th>\n",
       "      <th>retweet_ratio</th>\n",
       "    </tr>\n",
       "  </thead>\n",
       "  <tbody>\n",
       "    <tr>\n",
       "      <th>3278</th>\n",
       "      <td>phones</td>\n",
       "      <td>7</td>\n",
       "      <td>1</td>\n",
       "      <td>7</td>\n",
       "      <td>1</td>\n",
       "      <td>7.0</td>\n",
       "      <td>7.00</td>\n",
       "    </tr>\n",
       "    <tr>\n",
       "      <th>1045</th>\n",
       "      <td>crowdfunding</td>\n",
       "      <td>6</td>\n",
       "      <td>1</td>\n",
       "      <td>5</td>\n",
       "      <td>2</td>\n",
       "      <td>6.0</td>\n",
       "      <td>2.50</td>\n",
       "    </tr>\n",
       "    <tr>\n",
       "      <th>554</th>\n",
       "      <td>bigdata</td>\n",
       "      <td>6</td>\n",
       "      <td>1</td>\n",
       "      <td>3</td>\n",
       "      <td>4</td>\n",
       "      <td>6.0</td>\n",
       "      <td>0.75</td>\n",
       "    </tr>\n",
       "    <tr>\n",
       "      <th>2940</th>\n",
       "      <td>morocco</td>\n",
       "      <td>11</td>\n",
       "      <td>2</td>\n",
       "      <td>8</td>\n",
       "      <td>5</td>\n",
       "      <td>5.5</td>\n",
       "      <td>1.60</td>\n",
       "    </tr>\n",
       "    <tr>\n",
       "      <th>3140</th>\n",
       "      <td>orangetheworld</td>\n",
       "      <td>5</td>\n",
       "      <td>1</td>\n",
       "      <td>5</td>\n",
       "      <td>1</td>\n",
       "      <td>5.0</td>\n",
       "      <td>5.00</td>\n",
       "    </tr>\n",
       "  </tbody>\n",
       "</table>\n",
       "</div>"
      ],
      "text/plain": [
       "               token  fhi  flo  rhi  rlo  fav_ratio  retweet_ratio\n",
       "3278          phones    7    1    7    1        7.0           7.00\n",
       "1045    crowdfunding    6    1    5    2        6.0           2.50\n",
       "554          bigdata    6    1    3    4        6.0           0.75\n",
       "2940         morocco   11    2    8    5        5.5           1.60\n",
       "3140  orangetheworld    5    1    5    1        5.0           5.00"
      ]
     },
     "execution_count": 48,
     "metadata": {},
     "output_type": "execute_result"
    }
   ],
   "source": [
    "#export to excel\n",
    "cols=['token', 'fhi', 'flo','rhi', 'rlo', 'fav_ratio', 'retweet_ratio']\n",
    "token_counts=token_counts[cols]\n",
    "token_counts.to_excel(writer,'ratio_tokens_all_textclean_0')\n",
    "token_counts.sort_values(\"fav_ratio\", ascending=False).head()"
   ]
  },
  {
   "cell_type": "code",
   "execution_count": 49,
   "metadata": {
    "collapsed": false
   },
   "outputs": [
    {
     "data": {
      "image/png": "[encoded data removed]",
      "text/plain": [
       "<matplotlib.figure.Figure at 0x116aca290>"
      ]
     },
     "metadata": {},
     "output_type": "display_data"
    }
   ],
   "source": [
    "# Make the PairGrid\n",
    "token_counts_graph=token_counts.sort_values(\"retweet_ratio\", ascending=False).head(20)\n",
    "\n",
    "sns.set(style=\"whitegrid\")\n",
    "\n",
    "g = sns.PairGrid(token_counts_graph.sort_values(\"retweet_ratio\", ascending=False),\n",
    "                 x_vars=token_counts_graph.columns[1:], y_vars=[\"token\"],\n",
    "                 size=8, aspect=.25)\n",
    "\n",
    "# Draw a dot plot using the stripplot function\n",
    "g.map(sns.stripplot, size=10, orient=\"h\",\n",
    "      palette=\"Reds_r\", edgecolor=\"gray\")\n",
    "\n",
    "# Use the same x axis limits on all columns and add better labels\n",
    "g.set(xlim=(0, 20), xlabel=\"values\", ylabel=\"\")\n",
    "\n",
    "# Use semantically meaningful titles for the columns\n",
    "titles = [\"N Favorite High\", \"N Favorite Low\", \"N Retweet High\", \"N Retweet Lo\", \"Favorite Likelihood\", \"Retweet Likelihood\"]\n",
    "\n",
    "for ax, title in zip(g.axes.flat, titles):\n",
    "\n",
    "    # Set a different title for each axes\n",
    "    ax.set(title=title)\n",
    "\n",
    "    # Make the grid horizontal instead of vertical\n",
    "    ax.xaxis.grid(False)\n",
    "    ax.yaxis.grid(True)\n",
    "\n",
    "sns.despine(left=True, bottom=True)"
   ]
  },
  {
   "cell_type": "code",
   "execution_count": 50,
   "metadata": {
    "collapsed": false
   },
   "outputs": [
    {
     "data": {
      "image/png": "[encoded data removed]",
      "text/plain": [
       "<matplotlib.figure.Figure at 0x11aae6590>"
      ]
     },
     "metadata": {},
     "output_type": "display_data"
    }
   ],
   "source": [
    "# Make the PairGrid\n",
    "token_counts_graph=token_counts.sort_values(\"rhi\", ascending=False).head(20)\n",
    "\n",
    "sns.set(style=\"whitegrid\")\n",
    "\n",
    "g = sns.PairGrid(token_counts_graph.sort_values(\"rhi\", ascending=False),\n",
    "                 x_vars=token_counts_graph.columns[1:], y_vars=[\"token\"],\n",
    "                 size=8, aspect=.25)\n",
    "\n",
    "# Draw a dot plot using the stripplot function\n",
    "g.map(sns.stripplot, size=10, orient=\"h\",\n",
    "      palette=\"Reds_r\", edgecolor=\"gray\")\n",
    "\n",
    "# Use the same x axis limits on all columns and add better labels\n",
    "g.set(xlim=(0, 350), xlabel=\"values\", ylabel=\"\")\n",
    "\n",
    "# Use semantically meaningful titles for the columns\n",
    "titles = [\"N Favorite High\", \"N Favorite Low\", \"N Retweet High\", \"N Retweet Lo\", \"Favorite Likelihood\", \"Retweet Likelihood\"]\n",
    "\n",
    "for ax, title in zip(g.axes.flat, titles):\n",
    "\n",
    "    # Set a different title for each axes\n",
    "    ax.set(title=title)\n",
    "\n",
    "    # Make the grid horizontal instead of vertical\n",
    "    ax.xaxis.grid(False)\n",
    "    ax.yaxis.grid(True)\n",
    "\n",
    "sns.despine(left=True, bottom=True)"
   ]
  },
  {
   "cell_type": "markdown",
   "metadata": {},
   "source": [
    "### Term Frequency and Inverse Document Frequency:\n",
    "- **What:** Computes \"relative frequency\" that a word appears in a document compared to its frequency across all documents\n",
    "- **Why:** More useful than \"term frequency\" for identifying \"important\" words in each document (high frequency in that document, low frequency in other documents)\n",
    "- **Notes:** Used for search engine scoring, text summarization, document clustering"
   ]
  },
  {
   "cell_type": "code",
   "execution_count": 51,
   "metadata": {
    "collapsed": false,
    "scrolled": false
   },
   "outputs": [
    {
     "data": {
      "text/plain": [
       "(2830, 713)"
      ]
     },
     "execution_count": 51,
     "metadata": {},
     "output_type": "execute_result"
    }
   ],
   "source": [
    "# create a document-term matrix using TF-IDF\n",
    "vect = TfidfVectorizer(stop_words='english',analyzer='word', ngram_range=(1,1))\n",
    "dtm = vect.fit_transform(wb.tags)\n",
    "features = vect.get_feature_names()\n",
    "dtm.shape"
   ]
  },
  {
   "cell_type": "code",
   "execution_count": 52,
   "metadata": {
    "collapsed": false
   },
   "outputs": [],
   "source": [
    "#See the dtm matrix\n",
    "#pd.DataFrame(dtm.toarray(), columns=vect.get_feature_names())"
   ]
  },
  {
   "cell_type": "markdown",
   "metadata": {},
   "source": [
    "### Topic Modelling "
   ]
  },
  {
   "cell_type": "code",
   "execution_count": 53,
   "metadata": {
    "collapsed": true
   },
   "outputs": [],
   "source": [
    "X=wb.text_clean"
   ]
  },
  {
   "cell_type": "code",
   "execution_count": 54,
   "metadata": {
    "collapsed": true
   },
   "outputs": [],
   "source": [
    "stoplist = set(CountVectorizer(stop_words='english').get_stop_words() )"
   ]
  },
  {
   "cell_type": "code",
   "execution_count": 55,
   "metadata": {
    "collapsed": false
   },
   "outputs": [
    {
     "name": "stderr",
     "output_type": "stream",
     "text": [
      "WARNING:gensim.models.ldamodel:too few updates, training might not converge; consider increasing the number of passes or iterations to improve accuracy\n"
     ]
    }
   ],
   "source": [
    "texts = [[word for word in document.lower().split() if word not in stoplist] for document in list(X)]\n",
    "\n",
    "# count up the frequency of each word\n",
    "frequency = defaultdict(int)\n",
    "for text in texts:\n",
    "     for token in text:\n",
    "         frequency[token] += 1    \n",
    "        \n",
    "# (2) remove words that only occur a small number of times, fixing a feature space that's needlessly big.\n",
    "# once in the whole corpus, not just once in a single document\n",
    "\n",
    "texts = [[token for token in text if frequency[token] > 1] for text in texts]\n",
    "\n",
    "dictionary = corpora.Dictionary(texts)\n",
    "corpus = [dictionary.doc2bow(text) for text in texts]\n",
    "\n",
    "lda = models.LdaModel(corpus, id2word=dictionary, num_topics=10, alpha = 'auto')\n",
    "#lda.show_topics()\n",
    "\n"
   ]
  },
  {
   "cell_type": "code",
   "execution_count": 56,
   "metadata": {
    "collapsed": false
   },
   "outputs": [
    {
     "data": {
      "text/plain": [
       "[([(0.031163111296558806, u'join'),\n",
       "   (0.021434236600787651, u'wbg'),\n",
       "   (0.018614664325007572, u'jimkim'),\n",
       "   (0.013181711366740779, u'globalcitizen'),\n",
       "   (0.011344912425441419, u'poverty')],\n",
       "  -34.930151701943913),\n",
       " ([(0.017049501922511465, u'event'),\n",
       "   (0.014257306291833914, u'live'),\n",
       "   (0.011625716052991604, u'join'),\n",
       "   (0.011301895537454167, u'sri'),\n",
       "   (0.011222708478502484, u'mulyani')],\n",
       "  -37.046817475310036),\n",
       " ([(0.014854600634949153, u'new'),\n",
       "   (0.013827796321219249, u'worldbank'),\n",
       "   (0.01180388140037401, u'help'),\n",
       "   (0.011025312214437786, u'data'),\n",
       "   (0.010694459904118749, u'endpoverty')],\n",
       "  -38.948062372131467),\n",
       " ([(0.021010039959166813, u'wbg'),\n",
       "   (0.016776389355340038, u'jimkim'),\n",
       "   (0.013477753060845249, u'carbon'),\n",
       "   (0.013031670093977703, u'climatechange'),\n",
       "   (0.01198247914925245, u'unga')],\n",
       "  -45.191068299810958),\n",
       " ([(0.033993877470651863, u'wbg'),\n",
       "   (0.028782121931809408, u'jimkim'),\n",
       "   (0.015196378336113823, u'climate'),\n",
       "   (0.015058517876068175, u'help'),\n",
       "   (0.013488921887272902, u'women')],\n",
       "  -47.006359515218598),\n",
       " ([(0.020232633812891199, u'jobs'),\n",
       "   (0.018235185915741841, u'women'),\n",
       "   (0.014751589140189356, u'musicnegrito'),\n",
       "   (0.013539995277867149, u'wbg'),\n",
       "   (0.012246526472117604, u'countries')],\n",
       "  -53.525253022053427),\n",
       " ([(0.017332267571466491, u'world'),\n",
       "   (0.013396593749485796, u'access'),\n",
       "   (0.01245181934421844, u'sdg'),\n",
       "   (0.010603185149373763, u'electricity'),\n",
       "   (0.0092970965078796527, u'africa')],\n",
       "  -54.108643369792233),\n",
       " ([(0.011791966413171984, u'join'),\n",
       "   (0.011558421688084046, u'poverty'),\n",
       "   (0.011084091053990405, u'music4dev'),\n",
       "   (0.010505706856949836, u'climateaction'),\n",
       "   (0.01044646339945981, u'singapore')],\n",
       "  -55.257310276510417),\n",
       " ([(0.024088604584595177, u'women'),\n",
       "   (0.014114707394810898, u'wbg'),\n",
       "   (0.012873279427864601, u'goodgov'),\n",
       "   (0.012309145023382081, u'countries'),\n",
       "   (0.011403799418754853, u'achieve')],\n",
       "  -56.369111172038764),\n",
       " ([(0.019880698733049453, u'countries'),\n",
       "   (0.010306654111806061, u'wbg'),\n",
       "   (0.0097617959784538945, u'music4dev'),\n",
       "   (0.0092195269837878971, u'affordable'),\n",
       "   (0.0091471633731975682, u'live')],\n",
       "  -57.177134273023299)]"
      ]
     },
     "execution_count": 56,
     "metadata": {},
     "output_type": "execute_result"
    }
   ],
   "source": [
    "lda.top_topics(corpus, num_words=5)"
   ]
  },
  {
   "cell_type": "markdown",
   "metadata": {},
   "source": [
    "** Topic model only the top retweet and favorite tweets **"
   ]
  },
  {
   "cell_type": "code",
   "execution_count": 57,
   "metadata": {
    "collapsed": true
   },
   "outputs": [],
   "source": [
    "X=wb.text_clean[wb.retweet_count>30]"
   ]
  },
  {
   "cell_type": "code",
   "execution_count": 58,
   "metadata": {
    "collapsed": false
   },
   "outputs": [
    {
     "name": "stderr",
     "output_type": "stream",
     "text": [
      "WARNING:gensim.models.ldamodel:too few updates, training might not converge; consider increasing the number of passes or iterations to improve accuracy\n"
     ]
    },
    {
     "data": {
      "text/plain": [
       "[u'0.037*djokernole + 0.035*servingecd + 0.022*pmr + 0.021*children + 0.018*accesstoinformation + 0.017*climateaction + 0.015*wbg + 0.014*join + 0.014*climatedeal + 0.013*watch',\n",
       " u'0.019*thirsty + 0.018*cities + 0.015*agriculture + 0.014*joins + 0.013*african + 0.011*ppl + 0.010*wwweek + 0.010*africaopendata + 0.010*youthbiz + 0.010*congrats',\n",
       " u'0.035*singapore + 0.030*musicnegrito + 0.030*carbon + 0.020*music4dev + 0.020*india + 0.017*electricity + 0.016*transport + 0.011*citizen + 0.010*newdelhi + 0.010*tatapower',\n",
       " u'0.047*specialist + 0.025*governments + 0.023*goodgov + 0.016*safetynets + 0.016*energyaccess + 0.014*yrs + 0.013*bank + 0.012*help + 0.011*procurement + 0.011*world',\n",
       " u'0.026*carbon + 0.014*affordable + 0.014*good + 0.013*electricity + 0.013*kenyaslums + 0.013*south + 0.013*change + 0.012*countries + 0.012*climate + 0.011*wbg',\n",
       " u'0.024*poverty + 0.013*extreme + 0.012*climate + 0.011*action + 0.010*america + 0.009*address + 0.009*data + 0.009*means + 0.008*improve + 0.008*africa',\n",
       " u'0.038*apply + 0.031*encouraged + 0.025*transport + 0.016*women + 0.015*work + 0.015*come + 0.015*energy + 0.015*poverty + 0.012*start + 0.012*join',\n",
       " u'0.015*damage + 0.013*poverty + 0.012*experience + 0.011*lgbt + 0.010*wbg + 0.009*risk + 0.009*share + 0.009*access + 0.009*knowledge + 0.008*sector',\n",
       " u'0.026*help + 0.022*port + 0.016*winner + 0.016*kenyapower + 0.015*world + 0.015*women + 0.015*sustainable + 0.014*cities + 0.011*policy + 0.011*available',\n",
       " u'0.025*countries + 0.017*childhood + 0.017*early + 0.017*wbg + 0.016*join + 0.015*world + 0.014*accesstoinformation + 0.014*development + 0.013*paris + 0.012*servingecd']"
      ]
     },
     "execution_count": 58,
     "metadata": {},
     "output_type": "execute_result"
    }
   ],
   "source": [
    "texts = [[word for word in document.lower().split() if word not in stoplist] for document in list(X)]\n",
    "\n",
    "# count up the frequency of each word\n",
    "frequency = defaultdict(int)\n",
    "for text in texts:\n",
    "     for token in text:\n",
    "         frequency[token] += 1 \n",
    "        \n",
    "# remove words that only occur a small number of times, fixing a feature space that's needlessly big.\n",
    "# once in the whole corpus, not just once in a single document\n",
    "texts = [[token for token in text if frequency[token] > 1] for text in texts]\n",
    "\n",
    "\n",
    "dictionary = corpora.Dictionary(texts)\n",
    "\n",
    "corpus = [dictionary.doc2bow(text) for text in texts]\n",
    "\n",
    "lda = models.LdaModel(corpus, id2word=dictionary, num_topics=10, alpha = 'auto')\n",
    "\n",
    "lda.print_topics()"
   ]
  },
  {
   "cell_type": "code",
   "execution_count": 59,
   "metadata": {
    "collapsed": false
   },
   "outputs": [
    {
     "data": {
      "text/plain": [
       "[([(0.037706413463304563, u'apply'),\n",
       "   (0.030565560766038016, u'encouraged'),\n",
       "   (0.024747310750281748, u'transport'),\n",
       "   (0.01576716675470707, u'women'),\n",
       "   (0.015227856287971896, u'work')],\n",
       "  -25.069725324580588),\n",
       " ([(0.019088364032240294, u'thirsty'),\n",
       "   (0.018332201589974707, u'cities'),\n",
       "   (0.015178285569587842, u'agriculture'),\n",
       "   (0.014233760212261628, u'joins'),\n",
       "   (0.012830525220207523, u'african')],\n",
       "  -31.315620186101846),\n",
       " ([(0.037189536823988838, u'djokernole'),\n",
       "   (0.035192828706442122, u'servingecd'),\n",
       "   (0.021816327229804332, u'pmr'),\n",
       "   (0.021238457197596521, u'children'),\n",
       "   (0.01821183324913439, u'accesstoinformation')],\n",
       "  -33.702022954030902),\n",
       " ([(0.047261784173318111, u'specialist'),\n",
       "   (0.024689331680281951, u'governments'),\n",
       "   (0.023077604582193566, u'goodgov'),\n",
       "   (0.016361371631657091, u'safetynets'),\n",
       "   (0.016150457623216104, u'energyaccess')],\n",
       "  -35.725047558568733),\n",
       " ([(0.014852714848371997, u'damage'),\n",
       "   (0.013207576799809068, u'poverty'),\n",
       "   (0.012161938937702481, u'experience'),\n",
       "   (0.011256935804966697, u'lgbt'),\n",
       "   (0.010151904196866252, u'wbg')],\n",
       "  -36.287951601893752),\n",
       " ([(0.025845364504223003, u'carbon'),\n",
       "   (0.014436518789589639, u'affordable'),\n",
       "   (0.013864721991713748, u'good'),\n",
       "   (0.013019253399968884, u'electricity'),\n",
       "   (0.012844684987075798, u'kenyaslums')],\n",
       "  -37.16610466221703),\n",
       " ([(0.034975511743588907, u'singapore'),\n",
       "   (0.030019369301642278, u'musicnegrito'),\n",
       "   (0.029802781366292903, u'carbon'),\n",
       "   (0.020292684804989931, u'music4dev'),\n",
       "   (0.020153273031053517, u'india')],\n",
       "  -40.66915504216329),\n",
       " ([(0.025902293389638696, u'help'),\n",
       "   (0.021736329563408856, u'port'),\n",
       "   (0.016373702790384279, u'winner'),\n",
       "   (0.016197085734570113, u'kenyapower'),\n",
       "   (0.014593745790060092, u'world')],\n",
       "  -43.382677610715056),\n",
       " ([(0.023671128700496365, u'poverty'),\n",
       "   (0.013199920681007239, u'extreme'),\n",
       "   (0.012357244400614831, u'climate'),\n",
       "   (0.010581925256066564, u'action'),\n",
       "   (0.010344642182551033, u'america')],\n",
       "  -43.839966114370057),\n",
       " ([(0.025382461568095763, u'countries'),\n",
       "   (0.017471079014187284, u'childhood'),\n",
       "   (0.01747107158429104, u'early'),\n",
       "   (0.016576328325364025, u'wbg'),\n",
       "   (0.015544380465468247, u'join')],\n",
       "  -46.273158469619233)]"
      ]
     },
     "execution_count": 59,
     "metadata": {},
     "output_type": "execute_result"
    }
   ],
   "source": [
    "lda.top_topics(corpus, num_words=5)"
   ]
  },
  {
   "cell_type": "markdown",
   "metadata": {},
   "source": [
    "### Predictions: what determines high retweets and favorites?"
   ]
  },
  {
   "cell_type": "markdown",
   "metadata": {},
   "source": [
    "** Linear Regression **\n",
    "\n",
    "How much of retweet or favorite responses can be explained by non-text"
   ]
  },
  {
   "cell_type": "code",
   "execution_count": 60,
   "metadata": {
    "collapsed": true
   },
   "outputs": [],
   "source": [
    "from sklearn.linear_model import LinearRegression\n",
    "from sklearn.cross_validation import train_test_split"
   ]
  },
  {
   "cell_type": "code",
   "execution_count": 61,
   "metadata": {
    "collapsed": true
   },
   "outputs": [],
   "source": [
    "# Exercise :  define a function that accepts a list of features and returns testing RMSE\n",
    "def train_test_rmse(cols):\n",
    "   \n",
    "    X = wb[cols]\n",
    "    y= wb.favorite_count\n",
    "    \n",
    "    X_train, X_test, y_train, y_test = train_test_split(X, y, random_state=99)\n",
    "    \n",
    "    # instantiate and fit\n",
    "    linreg = LinearRegression()\n",
    "    linreg.fit(X_train, y_train)\n",
    "\n",
    "    # print the coefficients\n",
    "    true=y_test\n",
    "    pred=linreg.predict(X_test)\n",
    "    rmse=np.sqrt(metrics.mean_squared_error(true, pred))\n",
    "    \n",
    "    return rmse"
   ]
  },
  {
   "cell_type": "code",
   "execution_count": 62,
   "metadata": {
    "collapsed": false
   },
   "outputs": [
    {
     "name": "stdout",
     "output_type": "stream",
     "text": [
      "41.7834073067\n",
      "41.9224317737\n",
      "41.897582725\n",
      "41.7904268735\n"
     ]
    }
   ],
   "source": [
    "# compare different sets of features\n",
    "#1) has_at \n",
    "print train_test_rmse(['has_at'])\n",
    "\n",
    "#2) has a hashtag\n",
    "print train_test_rmse(['has_ht'])\n",
    "\n",
    "#3) has a hashtag\n",
    "print train_test_rmse(['has_link'])\n",
    "\n",
    "#4) has_at, has a hashtag, has a link, is a RT\n",
    "print train_test_rmse(['has_at', 'has_ht', 'has_link'])"
   ]
  },
  {
   "cell_type": "markdown",
   "metadata": {},
   "source": [
    "Comparing testing RMSE with null RMSE\n",
    "Null RMSE is the RMSE that could be achieved by always predicting the mean response value. It is a benchmark against which you may want to measure your regression model."
   ]
  },
  {
   "cell_type": "code",
   "execution_count": 63,
   "metadata": {
    "collapsed": false
   },
   "outputs": [
    {
     "name": "stdout",
     "output_type": "stream",
     "text": [
      "41.7834073067\n"
     ]
    }
   ],
   "source": [
    "print train_test_rmse(['has_at'])"
   ]
  },
  {
   "cell_type": "markdown",
   "metadata": {},
   "source": [
    "**Logistic Regression**"
   ]
  },
  {
   "cell_type": "code",
   "execution_count": 64,
   "metadata": {
    "collapsed": true
   },
   "outputs": [],
   "source": [
    "# train a logistic regression model\n",
    "from sklearn.linear_model import LogisticRegression\n",
    "logreg = LogisticRegression(C=1e9)\n",
    "from sklearn import metrics\n",
    "from sklearn.cross_validation import cross_val_score"
   ]
  },
  {
   "cell_type": "code",
   "execution_count": 65,
   "metadata": {
    "collapsed": true
   },
   "outputs": [],
   "source": [
    "cols=['has_at', 'has_ht', 'has_link']"
   ]
  },
  {
   "cell_type": "code",
   "execution_count": 66,
   "metadata": {
    "collapsed": false
   },
   "outputs": [
    {
     "name": "stdout",
     "output_type": "stream",
     "text": [
      "0.721751412429\n"
     ]
    }
   ],
   "source": [
    "# split the new DataFrame into training and testing sets\n",
    "X= wb[cols]\n",
    "y=wb.retweet75\n",
    "X_train, X_test, y_train, y_test = train_test_split(X, y, random_state=1)\n",
    "\n",
    "logreg.fit(X_train, y_train)\n",
    "\n",
    "# make predictions for testing set\n",
    "y_pred_class = logreg.predict(X_test)\n",
    "\n",
    "# calculate testing accuracy\n",
    "print metrics.accuracy_score(y_test, y_pred_class)"
   ]
  },
  {
   "cell_type": "code",
   "execution_count": 67,
   "metadata": {
    "collapsed": false
   },
   "outputs": [
    {
     "data": {
      "text/plain": [
       "0    0.721751\n",
       "Name: retweet75, dtype: float64"
      ]
     },
     "execution_count": 67,
     "metadata": {},
     "output_type": "execute_result"
    }
   ],
   "source": [
    "# null accuracy\n",
    "y_test.value_counts().head(1) / len(y_test)"
   ]
  },
  {
   "cell_type": "code",
   "execution_count": 68,
   "metadata": {
    "collapsed": false
   },
   "outputs": [
    {
     "data": {
      "text/plain": [
       "<matplotlib.text.Text at 0x118c88390>"
      ]
     },
     "execution_count": 68,
     "metadata": {},
     "output_type": "execute_result"
    },
    {
     "data": {
      "image/png": "[encoded data removed]",
      "text/plain": [
       "<matplotlib.figure.Figure at 0x11aabc190>"
      ]
     },
     "metadata": {},
     "output_type": "display_data"
    }
   ],
   "source": [
    "# predict probability of survival\n",
    "y_pred_prob = logreg.predict_proba(X_test)[:, 1]\n",
    "\n",
    "plt.rcParams['figure.figsize'] = (8, 6)\n",
    "plt.rcParams['font.size'] = 14\n",
    "\n",
    "# plot ROC curve\n",
    "fpr, tpr, thresholds = metrics.roc_curve(y_test, y_pred_prob)\n",
    "plt.plot(fpr, tpr)\n",
    "plt.xlim([0.0, 1.0])\n",
    "plt.ylim([0.0, 1.0])\n",
    "plt.xlabel('False Positive Rate (1 - Specificity)')\n",
    "plt.ylabel('True Positive Rate (Sensitivity)')"
   ]
  },
  {
   "cell_type": "code",
   "execution_count": 69,
   "metadata": {
    "collapsed": false
   },
   "outputs": [
    {
     "data": {
      "text/plain": [
       "array([<matplotlib.axes._subplots.AxesSubplot object at 0x1195ca690>,\n",
       "       <matplotlib.axes._subplots.AxesSubplot object at 0x11dd60d50>], dtype=object)"
      ]
     },
     "execution_count": 69,
     "metadata": {},
     "output_type": "execute_result"
    },
    {
     "data": {
      "image/png": "[encoded data removed]",
      "text/plain": [
       "<matplotlib.figure.Figure at 0x119601a90>"
      ]
     },
     "metadata": {},
     "output_type": "display_data"
    }
   ],
   "source": [
    "# histogram of predicted probabilities grouped by actual response value\n",
    "df = pd.DataFrame({'probability':y_pred_prob, 'actual':y_test})\n",
    "df.hist(column='probability', by='actual', sharex=True, sharey=True)"
   ]
  },
  {
   "cell_type": "code",
   "execution_count": 70,
   "metadata": {
    "collapsed": false
   },
   "outputs": [
    {
     "name": "stdout",
     "output_type": "stream",
     "text": [
      "0.582087476532\n"
     ]
    }
   ],
   "source": [
    "# calculate AUC\n",
    "print metrics.roc_auc_score(y_test, y_pred_prob)"
   ]
  },
  {
   "cell_type": "code",
   "execution_count": 71,
   "metadata": {
    "collapsed": false
   },
   "outputs": [
    {
     "data": {
      "text/plain": [
       "0.59033245389229538"
      ]
     },
     "execution_count": 71,
     "metadata": {},
     "output_type": "execute_result"
    }
   ],
   "source": [
    "# calculate cross-validated AUC\n",
    "cross_val_score(logreg, X, y, cv=10, scoring='roc_auc').mean()"
   ]
  },
  {
   "cell_type": "markdown",
   "metadata": {},
   "source": [
    "** Naive Bayes, predict top retweet/favorite or not **"
   ]
  },
  {
   "cell_type": "code",
   "execution_count": 72,
   "metadata": {
    "collapsed": true
   },
   "outputs": [],
   "source": [
    "# split the new DataFrame into training and testing sets\n",
    "X=wb.text\n",
    "#y=wb.retweet75\n",
    "y=wb.favorite75\n",
    "\n",
    "X_train, X_test, y_train, y_test = train_test_split(X, y, random_state=1)"
   ]
  },
  {
   "cell_type": "code",
   "execution_count": 73,
   "metadata": {
    "collapsed": false
   },
   "outputs": [
    {
     "data": {
      "text/plain": [
       "pandas.core.series.Series"
      ]
     },
     "execution_count": 73,
     "metadata": {},
     "output_type": "execute_result"
    }
   ],
   "source": [
    "type(y_test)"
   ]
  },
  {
   "cell_type": "code",
   "execution_count": 74,
   "metadata": {
    "collapsed": false,
    "scrolled": false
   },
   "outputs": [],
   "source": [
    "# use CountVectorizer to create document-term matrices from X_train and X_test\n",
    "# remove English stop words\n",
    "vect = CountVectorizer(stop_words='english', lowercase=True)\n",
    "X_train_dtm = vect.fit_transform(X_train)\n",
    "X_test_dtm = vect.transform(X_test) "
   ]
  },
  {
   "cell_type": "code",
   "execution_count": 75,
   "metadata": {
    "collapsed": false
   },
   "outputs": [
    {
     "name": "stdout",
     "output_type": "stream",
     "text": [
      "0.771186440678\n"
     ]
    }
   ],
   "source": [
    "# train a logistic regression model\n",
    "logreg.fit(X_train_dtm, y_train)\n",
    "\n",
    "# make predictions for testing set\n",
    "y_pred_class = logreg.predict(X_test_dtm)\n",
    "y_pred_prob = logreg.predict_proba(X_test_dtm)[:, 1]\n",
    "\n",
    "# calculate accuracy\n",
    "print metrics.accuracy_score(y_test, y_pred_class)"
   ]
  },
  {
   "cell_type": "code",
   "execution_count": 76,
   "metadata": {
    "collapsed": false
   },
   "outputs": [
    {
     "data": {
      "text/plain": [
       "0.75282485875706218"
      ]
     },
     "execution_count": 76,
     "metadata": {},
     "output_type": "execute_result"
    }
   ],
   "source": [
    "# calculate null accuracy\n",
    "y_test_binary = np.where(y_test==1, 1, 0)\n",
    "max(y_test_binary.mean(), 1 - y_test_binary.mean())"
   ]
  },
  {
   "cell_type": "code",
   "execution_count": 77,
   "metadata": {
    "collapsed": true
   },
   "outputs": [],
   "source": [
    "# define a function that accepts a vectorizer and calculates the accuracy\n",
    "def tokenize_test(vect):\n",
    "    X_train_dtm = vect.fit_transform(X_train)\n",
    "    print 'Features: ', X_train_dtm.shape[1]\n",
    "    X_test_dtm = vect.transform(X_test)\n",
    "    logreg.fit(X_train_dtm, y_train)\n",
    "    y_pred_class = logreg.predict(X_test_dtm)\n",
    "    print 'Accuracy: ', metrics.accuracy_score(y_test, y_pred_class)"
   ]
  },
  {
   "cell_type": "code",
   "execution_count": 78,
   "metadata": {
    "collapsed": false
   },
   "outputs": [
    {
     "name": "stdout",
     "output_type": "stream",
     "text": [
      "Features:  30392\n",
      "Accuracy:  0.778248587571\n"
     ]
    }
   ],
   "source": [
    "# include 1-grams and 2-grams\n",
    "vect = CountVectorizer(ngram_range=(1, 2))\n",
    "tokenize_test(vect)"
   ]
  },
  {
   "cell_type": "code",
   "execution_count": 79,
   "metadata": {
    "collapsed": false
   },
   "outputs": [
    {
     "data": {
      "text/plain": [
       "<matplotlib.text.Text at 0x1185f7050>"
      ]
     },
     "execution_count": 79,
     "metadata": {},
     "output_type": "execute_result"
    },
    {
     "data": {
      "image/png": "[encoded data removed]",
      "text/plain": [
       "<matplotlib.figure.Figure at 0x1177d3550>"
      ]
     },
     "metadata": {},
     "output_type": "display_data"
    }
   ],
   "source": [
    "plt.rcParams['figure.figsize'] = (8, 6)\n",
    "plt.rcParams['font.size'] = 14\n",
    "\n",
    "# plot ROC curve\n",
    "fpr, tpr, thresholds = metrics.roc_curve(y_test, y_pred_prob)\n",
    "plt.plot(fpr, tpr)\n",
    "plt.xlim([0.0, 1.0])\n",
    "plt.ylim([0.0, 1.0])\n",
    "plt.xlabel('False Positive Rate (1 - Specificity)')\n",
    "plt.ylabel('True Positive Rate (Sensitivity)')"
   ]
  },
  {
   "cell_type": "code",
   "execution_count": 80,
   "metadata": {
    "collapsed": false
   },
   "outputs": [
    {
     "data": {
      "text/plain": [
       "array([<matplotlib.axes._subplots.AxesSubplot object at 0x1183d99d0>,\n",
       "       <matplotlib.axes._subplots.AxesSubplot object at 0x117132390>], dtype=object)"
      ]
     },
     "execution_count": 80,
     "metadata": {},
     "output_type": "execute_result"
    },
    {
     "data": {
      "image/png": "[encoded data removed]",
      "text/plain": [
       "<matplotlib.figure.Figure at 0x118c5d390>"
      ]
     },
     "metadata": {},
     "output_type": "display_data"
    }
   ],
   "source": [
    "# histogram of predicted probabilities grouped by actual response value\n",
    "df = pd.DataFrame({'probability':y_pred_prob, 'actual':y_test})\n",
    "df.hist(column='probability', by='actual', sharex=True, sharey=True)"
   ]
  },
  {
   "cell_type": "code",
   "execution_count": 81,
   "metadata": {
    "collapsed": false
   },
   "outputs": [
    {
     "name": "stdout",
     "output_type": "stream",
     "text": [
      "0.76968641115\n"
     ]
    }
   ],
   "source": [
    "# calculate AUC\n",
    "print metrics.roc_auc_score(y_test, y_pred_prob)"
   ]
  },
  {
   "cell_type": "code",
   "execution_count": 82,
   "metadata": {
    "collapsed": false
   },
   "outputs": [],
   "source": [
    "# calculate cross-validated AUC\n",
    "#cross_val_score(logreg, X, y, cv=10, scoring='roc_auc').mean()"
   ]
  },
  {
   "cell_type": "markdown",
   "metadata": {},
   "source": [
    "### Sentiment Analysis"
   ]
  },
  {
   "cell_type": "code",
   "execution_count": 83,
   "metadata": {
    "collapsed": true,
    "scrolled": false
   },
   "outputs": [],
   "source": [
    "# define a function that accepts text and returns the polarity\n",
    "def detect_sentiment(text):\n",
    "    return TextBlob(text.decode('utf-8')).sentiment.polarity"
   ]
  },
  {
   "cell_type": "code",
   "execution_count": 84,
   "metadata": {
    "collapsed": false,
    "scrolled": false
   },
   "outputs": [],
   "source": [
    "# create a new DataFrame column for sentiment (WARNING: SLOW!)\n",
    "wb['sentiment'] = wb.text_clean.apply(detect_sentiment)\n",
    "wb['ln_RT']=np.log(wb.retweet_count+1)\n",
    "wb['ln_fav']=np.log(wb.favorite_count+1)"
   ]
  },
  {
   "cell_type": "code",
   "execution_count": 85,
   "metadata": {
    "collapsed": false
   },
   "outputs": [
    {
     "data": {
      "text/plain": [
       "<matplotlib.axes._subplots.AxesSubplot at 0x116bb8c10>"
      ]
     },
     "execution_count": 85,
     "metadata": {},
     "output_type": "execute_result"
    },
    {
     "data": {
      "image/png": "[encoded data removed]",
      "text/plain": [
       "<matplotlib.figure.Figure at 0x11aabc410>"
      ]
     },
     "metadata": {},
     "output_type": "display_data"
    }
   ],
   "source": [
    "sns.distplot(wb.sentiment)"
   ]
  },
  {
   "cell_type": "code",
   "execution_count": 95,
   "metadata": {
    "collapsed": false
   },
   "outputs": [
    {
     "data": {
      "text/plain": [
       "15    2230\n",
       "16     600\n",
       "Name: year, dtype: int64"
      ]
     },
     "execution_count": 95,
     "metadata": {},
     "output_type": "execute_result"
    }
   ],
   "source": [
    "wb.year.value_counts()"
   ]
  },
  {
   "cell_type": "code",
   "execution_count": 106,
   "metadata": {
    "collapsed": false
   },
   "outputs": [
    {
     "data": {
      "text/plain": [
       "<seaborn.axisgrid.FacetGrid at 0x117cca8d0>"
      ]
     },
     "execution_count": 106,
     "metadata": {},
     "output_type": "execute_result"
    },
    {
     "data": {
      "image/png": "[encoded data removed]",
      "text/plain": [
       "<matplotlib.figure.Figure at 0x117ccab10>"
      ]
     },
     "metadata": {},
     "output_type": "display_data"
    }
   ],
   "source": [
    "# Plot tip as a function of toal bill across days\n",
    "g = sns.lmplot(x=\"retweet_count\", y=\"sentiment\", data=wb, size=7)\n",
    "\n",
    "# Use more informative axis labels than are provided by default\n",
    "g.set_axis_labels(\"retweet counts\", \"sentiment\")"
   ]
  },
  {
   "cell_type": "code",
   "execution_count": 87,
   "metadata": {
    "collapsed": false
   },
   "outputs": [
    {
     "data": {
      "text/plain": [
       "<seaborn.axisgrid.FacetGrid at 0x116a2ed10>"
      ]
     },
     "execution_count": 87,
     "metadata": {},
     "output_type": "execute_result"
    },
    {
     "data": {
      "image/png": "[encoded data removed]",
      "text/plain": [
       "<matplotlib.figure.Figure at 0x117e734d0>"
      ]
     },
     "metadata": {},
     "output_type": "display_data"
    }
   ],
   "source": [
    "# Plot tip as a function of toal bill across days\n",
    "g = sns.lmplot(x=\"favorite_count\", y=\"sentiment\", hue=\"has_ht\", data=wb, size=7)\n",
    "\n",
    "# Use more informative axis labels than are provided by default\n",
    "g.set_axis_labels(\"favorite counts\", \"sentiment\")"
   ]
  },
  {
   "cell_type": "code",
   "execution_count": 88,
   "metadata": {
    "collapsed": false
   },
   "outputs": [
    {
     "data": {
      "text/plain": [
       "356     Tourism leads to entry-level jobs that allow p...\n",
       "1197    Government works best when citizens are engage...\n",
       "1631    What is the best news in the world today, acco...\n",
       "1779    \"One person's trash is another person's treasu...\n",
       "2096    “Chefs are the best weapons to bring about cha...\n",
       "Name: text, dtype: object"
      ]
     },
     "execution_count": 88,
     "metadata": {},
     "output_type": "execute_result"
    }
   ],
   "source": [
    "# list reviews with most positive sentiment\n",
    "wb[wb.sentiment == 1].text.head()"
   ]
  },
  {
   "cell_type": "code",
   "execution_count": 89,
   "metadata": {
    "collapsed": false
   },
   "outputs": [
    {
     "data": {
      "text/plain": [
       "1     When girls stay an extra yr in secondary schoo...\n",
       "2     Among the poor, 78% live in rural areas, &amp;...\n",
       "11    &gt; 200 M ppl could experience less coastal f...\n",
       "24    #Climatechange could impact coral #reefs. This...\n",
       "44    This small #Indian village proves ending extre...\n",
       "Name: text, dtype: object"
      ]
     },
     "execution_count": 89,
     "metadata": {},
     "output_type": "execute_result"
    }
   ],
   "source": [
    "# list reviews with most negative sentiment\n",
    "wb[wb.sentiment <0].text.head()"
   ]
  },
  {
   "cell_type": "code",
   "execution_count": null,
   "metadata": {
    "collapsed": true
   },
   "outputs": [],
   "source": []
  },
  {
   "cell_type": "code",
   "execution_count": null,
   "metadata": {
    "collapsed": true
   },
   "outputs": [],
   "source": []
  },
  {
   "cell_type": "code",
   "execution_count": null,
   "metadata": {
    "collapsed": true
   },
   "outputs": [],
   "source": []
  }
 ],
 "metadata": {
  "kernelspec": {
   "display_name": "Python 2",
   "language": "python",
   "name": "python2"
  },
  "language_info": {
   "codemirror_mode": {
    "name": "ipython",
    "version": 2
   },
   "file_extension": ".py",
   "mimetype": "text/x-python",
   "name": "python",
   "nbconvert_exporter": "python",
   "pygments_lexer": "ipython2",
   "version": "2.7.11"
  }
 },
 "nbformat": 4,
 "nbformat_minor": 0
}
