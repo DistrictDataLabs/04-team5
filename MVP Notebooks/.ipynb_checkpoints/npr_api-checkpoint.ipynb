{
 "cells": [
  {
   "cell_type": "code",
   "execution_count": 1,
   "metadata": {
    "collapsed": false
   },
   "outputs": [],
   "source": [
    "from urllib2 import urlopen\n",
    "from json import load\n",
    "import pandas as pd\n",
    "from pandas.io.json import json_normalize\n",
    "import itertools"
   ]
  },
  {
   "cell_type": "code",
   "execution_count": 2,
   "metadata": {
    "collapsed": false
   },
   "outputs": [],
   "source": [
    "##api_key = 'MDIzNDI5NDMzMDE0NTkwMTI5ODY1NzQ4Ng000'"
   ]
  },
  {
   "cell_type": "code",
   "execution_count": 3,
   "metadata": {
    "collapsed": true
   },
   "outputs": [],
   "source": [
    "url = 'http://api.npr.org/query?apiKey=MDIzNDI5NDMzMDE0NTkwMTI5ODY1NzQ4Ng000&numResults=3&format=json&id=1002'"
   ]
  },
  {
   "cell_type": "code",
   "execution_count": 4,
   "metadata": {
    "collapsed": true
   },
   "outputs": [],
   "source": [
    "response = urlopen(url)\n",
    "json_obj = load(response)"
   ]
  },
  {
   "cell_type": "code",
   "execution_count": 5,
   "metadata": {
    "collapsed": true
   },
   "outputs": [],
   "source": [
    "##the next several cells are test code to practice mapping to the information we want in the df -- commented out for now"
   ]
  },
  {
   "cell_type": "code",
   "execution_count": 6,
   "metadata": {
    "collapsed": false,
    "scrolled": true
   },
   "outputs": [
    {
     "data": {
      "text/plain": [
       "\"\\nfor story in json_obj['list']['story']:\\n\\n    print 'ID: ' + story['id']\\n    \\n    print 'TITLE: ' + story['title']['$text']\\n\\n    print 'DATE: ' + story['storyDate']['$text'] + '\\n'\\n\""
      ]
     },
     "execution_count": 6,
     "metadata": {},
     "output_type": "execute_result"
    }
   ],
   "source": [
    "'''\n",
    "for story in json_obj['list']['story']:\n",
    "\n",
    "    print 'ID: ' + story['id']\n",
    "    \n",
    "    print 'TITLE: ' + story['title']['$text']\n",
    "\n",
    "    print 'DATE: ' + story['storyDate']['$text'] + '\\n'\n",
    "'''"
   ]
  },
  {
   "cell_type": "code",
   "execution_count": 7,
   "metadata": {
    "collapsed": false
   },
   "outputs": [
    {
     "data": {
      "text/plain": [
       "\"for story in json_obj['list']['story']:\\n    for parent in story['parent']:\\n        print story['id'], parent['title']['$text']\\n\""
      ]
     },
     "execution_count": 7,
     "metadata": {},
     "output_type": "execute_result"
    }
   ],
   "source": [
    "'''for story in json_obj['list']['story']:\n",
    "    for parent in story['parent']:\n",
    "        print story['id'], parent['title']['$text']\n",
    "'''"
   ]
  },
  {
   "cell_type": "code",
   "execution_count": 8,
   "metadata": {
    "collapsed": false
   },
   "outputs": [
    {
     "data": {
      "text/plain": [
       "\"      \\nfor story in json_obj['list']['story']:\\n    for text in story['text']['paragraph']:\\n        print story['id'], text['$text']\\n\""
      ]
     },
     "execution_count": 8,
     "metadata": {},
     "output_type": "execute_result"
    }
   ],
   "source": [
    "'''for story in json_obj['list']['story']:\n",
    "    print story['id'], story['text']['paragraph']\n",
    "'''\n",
    "'''      \n",
    "for story in json_obj['list']['story']:\n",
    "    for text in story['text']['paragraph']:\n",
    "        print story['id'], text['$text']\n",
    "'''"
   ]
  },
  {
   "cell_type": "code",
   "execution_count": 9,
   "metadata": {
    "collapsed": false
   },
   "outputs": [],
   "source": [
    "## Build the data frame by creating a list of dictionaries, then converting the list of dictionaries into a data frame\n",
    "\n",
    "##First data frame: one row per distinct story category\n",
    "\n",
    "dicts_list = []"
   ]
  },
  {
   "cell_type": "code",
   "execution_count": 10,
   "metadata": {
    "collapsed": false
   },
   "outputs": [],
   "source": [
    "for story in json_obj['list']['story']:\n",
    "    for parent in story['parent']:\n",
    "        d = {\n",
    "            'id': story['id'],\n",
    "            'title': story['title']['$text'].encode('ascii'),\n",
    "            'category': parent['title']['$text'].encode('ascii')    \n",
    "        }\n",
    "        dicts_list.append(d)"
   ]
  },
  {
   "cell_type": "code",
   "execution_count": 11,
   "metadata": {
    "collapsed": false
   },
   "outputs": [],
   "source": [
    "df = pd.DataFrame(dicts_list, columns=('id', 'title', 'category'))"
   ]
  },
  {
   "cell_type": "code",
   "execution_count": 13,
   "metadata": {
    "collapsed": false
   },
   "outputs": [
    {
     "data": {
      "text/html": [
       "<div>\n",
       "<table border=\"1\" class=\"dataframe\">\n",
       "  <thead>\n",
       "    <tr style=\"text-align: right;\">\n",
       "      <th></th>\n",
       "      <th>id</th>\n",
       "      <th>title</th>\n",
       "      <th>category</th>\n",
       "    </tr>\n",
       "  </thead>\n",
       "  <tbody>\n",
       "    <tr>\n",
       "      <th>0</th>\n",
       "      <td>478441023</td>\n",
       "      <td>Clinton Holds Narrow Lead Over Sanders In Kent...</td>\n",
       "      <td>Politics</td>\n",
       "    </tr>\n",
       "    <tr>\n",
       "      <th>1</th>\n",
       "      <td>478441023</td>\n",
       "      <td>Clinton Holds Narrow Lead Over Sanders In Kent...</td>\n",
       "      <td>Elections</td>\n",
       "    </tr>\n",
       "    <tr>\n",
       "      <th>2</th>\n",
       "      <td>478441023</td>\n",
       "      <td>Clinton Holds Narrow Lead Over Sanders In Kent...</td>\n",
       "      <td>Politics</td>\n",
       "    </tr>\n",
       "    <tr>\n",
       "      <th>3</th>\n",
       "      <td>478441023</td>\n",
       "      <td>Clinton Holds Narrow Lead Over Sanders In Kent...</td>\n",
       "      <td>U.S.</td>\n",
       "    </tr>\n",
       "    <tr>\n",
       "      <th>4</th>\n",
       "      <td>478441023</td>\n",
       "      <td>Clinton Holds Narrow Lead Over Sanders In Kent...</td>\n",
       "      <td>Home Page Top Stories</td>\n",
       "    </tr>\n",
       "    <tr>\n",
       "      <th>5</th>\n",
       "      <td>478441023</td>\n",
       "      <td>Clinton Holds Narrow Lead Over Sanders In Kent...</td>\n",
       "      <td>News</td>\n",
       "    </tr>\n",
       "    <tr>\n",
       "      <th>6</th>\n",
       "      <td>478417091</td>\n",
       "      <td>Sanders Doubles Down On Nevada Convention Cont...</td>\n",
       "      <td>Politics</td>\n",
       "    </tr>\n",
       "    <tr>\n",
       "      <th>7</th>\n",
       "      <td>478417091</td>\n",
       "      <td>Sanders Doubles Down On Nevada Convention Cont...</td>\n",
       "      <td>Politics</td>\n",
       "    </tr>\n",
       "    <tr>\n",
       "      <th>8</th>\n",
       "      <td>478417091</td>\n",
       "      <td>Sanders Doubles Down On Nevada Convention Cont...</td>\n",
       "      <td>News</td>\n",
       "    </tr>\n",
       "    <tr>\n",
       "      <th>9</th>\n",
       "      <td>478417091</td>\n",
       "      <td>Sanders Doubles Down On Nevada Convention Cont...</td>\n",
       "      <td>sanders campaign</td>\n",
       "    </tr>\n",
       "  </tbody>\n",
       "</table>\n",
       "</div>"
      ],
      "text/plain": [
       "          id                                              title  \\\n",
       "0  478441023  Clinton Holds Narrow Lead Over Sanders In Kent...   \n",
       "1  478441023  Clinton Holds Narrow Lead Over Sanders In Kent...   \n",
       "2  478441023  Clinton Holds Narrow Lead Over Sanders In Kent...   \n",
       "3  478441023  Clinton Holds Narrow Lead Over Sanders In Kent...   \n",
       "4  478441023  Clinton Holds Narrow Lead Over Sanders In Kent...   \n",
       "5  478441023  Clinton Holds Narrow Lead Over Sanders In Kent...   \n",
       "6  478417091  Sanders Doubles Down On Nevada Convention Cont...   \n",
       "7  478417091  Sanders Doubles Down On Nevada Convention Cont...   \n",
       "8  478417091  Sanders Doubles Down On Nevada Convention Cont...   \n",
       "9  478417091  Sanders Doubles Down On Nevada Convention Cont...   \n",
       "\n",
       "                category  \n",
       "0               Politics  \n",
       "1              Elections  \n",
       "2               Politics  \n",
       "3                   U.S.  \n",
       "4  Home Page Top Stories  \n",
       "5                   News  \n",
       "6               Politics  \n",
       "7               Politics  \n",
       "8                   News  \n",
       "9       sanders campaign  "
      ]
     },
     "execution_count": 13,
     "metadata": {},
     "output_type": "execute_result"
    }
   ],
   "source": [
    "df.head(5)"
   ]
  },
  {
   "cell_type": "code",
   "execution_count": 14,
   "metadata": {
    "collapsed": false
   },
   "outputs": [],
   "source": [
    "##Second data frame: one row per story, with one column containing a list of all the story's categories\n",
    "\n",
    "dicts_reshape = []"
   ]
  },
  {
   "cell_type": "code",
   "execution_count": 15,
   "metadata": {
    "collapsed": false
   },
   "outputs": [],
   "source": [
    "for story in json_obj['list']['story']:\n",
    "    categories_list = []\n",
    "    d = {\n",
    "        'id': story['id'],\n",
    "        'title': story['title']['$text'].encode('ascii')\n",
    "        }\n",
    "    for parent in story['parent']:\n",
    "        category = parent['title']['$text'].encode('ascii')\n",
    "        categories_list.append(category)   \n",
    "        d['category'] = categories_list\n",
    "        d['top_category'] = []\n",
    "    dicts_reshape.append(d)"
   ]
  },
  {
   "cell_type": "code",
   "execution_count": 16,
   "metadata": {
    "collapsed": false
   },
   "outputs": [],
   "source": [
    "df_reshape = pd.DataFrame(dicts_reshape, columns=('id', 'title', 'category', 'top_category'))"
   ]
  },
  {
   "cell_type": "code",
   "execution_count": 17,
   "metadata": {
    "collapsed": false
   },
   "outputs": [
    {
     "data": {
      "text/html": [
       "<div>\n",
       "<table border=\"1\" class=\"dataframe\">\n",
       "  <thead>\n",
       "    <tr style=\"text-align: right;\">\n",
       "      <th></th>\n",
       "      <th>id</th>\n",
       "      <th>title</th>\n",
       "      <th>category</th>\n",
       "      <th>top_category</th>\n",
       "    </tr>\n",
       "  </thead>\n",
       "  <tbody>\n",
       "    <tr>\n",
       "      <th>0</th>\n",
       "      <td>478441023</td>\n",
       "      <td>Clinton Holds Narrow Lead Over Sanders In Kent...</td>\n",
       "      <td>[Politics, Elections, Politics, U.S., Home Pag...</td>\n",
       "      <td>[]</td>\n",
       "    </tr>\n",
       "    <tr>\n",
       "      <th>1</th>\n",
       "      <td>478417091</td>\n",
       "      <td>Sanders Doubles Down On Nevada Convention Cont...</td>\n",
       "      <td>[Politics, Politics, News, sanders campaign, s...</td>\n",
       "      <td>[]</td>\n",
       "    </tr>\n",
       "    <tr>\n",
       "      <th>2</th>\n",
       "      <td>478410141</td>\n",
       "      <td>Older Voters To Candidates: Don't Forget About Us</td>\n",
       "      <td>[Elections, Home Page Top Stories, Politics, A...</td>\n",
       "      <td>[]</td>\n",
       "    </tr>\n",
       "  </tbody>\n",
       "</table>\n",
       "</div>"
      ],
      "text/plain": [
       "          id                                              title  \\\n",
       "0  478441023  Clinton Holds Narrow Lead Over Sanders In Kent...   \n",
       "1  478417091  Sanders Doubles Down On Nevada Convention Cont...   \n",
       "2  478410141  Older Voters To Candidates: Don't Forget About Us   \n",
       "\n",
       "                                            category top_category  \n",
       "0  [Politics, Elections, Politics, U.S., Home Pag...           []  \n",
       "1  [Politics, Politics, News, sanders campaign, s...           []  \n",
       "2  [Elections, Home Page Top Stories, Politics, A...           []  "
      ]
     },
     "execution_count": 17,
     "metadata": {},
     "output_type": "execute_result"
    }
   ],
   "source": [
    "df_reshape"
   ]
  },
  {
   "cell_type": "code",
   "execution_count": 18,
   "metadata": {
    "collapsed": false
   },
   "outputs": [
    {
     "data": {
      "text/plain": [
       "['Politics', 'Elections', 'Politics', 'U.S.', 'Home Page Top Stories', 'News']"
      ]
     },
     "execution_count": 18,
     "metadata": {},
     "output_type": "execute_result"
    }
   ],
   "source": [
    "df_reshape['category'][0]"
   ]
  },
  {
   "cell_type": "code",
   "execution_count": 19,
   "metadata": {
    "collapsed": false
   },
   "outputs": [],
   "source": [
    "##determine most popular categories\n",
    "all_categories = df['category'].tolist()"
   ]
  },
  {
   "cell_type": "code",
   "execution_count": 20,
   "metadata": {
    "collapsed": true
   },
   "outputs": [],
   "source": [
    "category_counter = {}  "
   ]
  },
  {
   "cell_type": "code",
   "execution_count": 21,
   "metadata": {
    "collapsed": true
   },
   "outputs": [],
   "source": [
    "for category in all_categories:\n",
    "    if category in category_counter:\n",
    "        category_counter[category] += 1\n",
    "    else:\n",
    "        category_counter[category] = 1"
   ]
  },
  {
   "cell_type": "code",
   "execution_count": 22,
   "metadata": {
    "collapsed": true
   },
   "outputs": [],
   "source": [
    "popular_categories = sorted(category_counter, key = category_counter.get, reverse = True)"
   ]
  },
  {
   "cell_type": "code",
   "execution_count": 23,
   "metadata": {
    "collapsed": true
   },
   "outputs": [],
   "source": [
    "top_5 = popular_categories[:5]"
   ]
  },
  {
   "cell_type": "code",
   "execution_count": 24,
   "metadata": {
    "collapsed": false
   },
   "outputs": [
    {
     "data": {
      "text/plain": [
       "['Politics',\n",
       " 'Elections',\n",
       " 'U.S.',\n",
       " 'Home Page Top Stories',\n",
       " 'NPR Stories For Apple News']"
      ]
     },
     "execution_count": 24,
     "metadata": {},
     "output_type": "execute_result"
    }
   ],
   "source": [
    "top_5"
   ]
  },
  {
   "cell_type": "code",
   "execution_count": 25,
   "metadata": {
    "collapsed": true
   },
   "outputs": [],
   "source": [
    "##filter category lists to retain only top categories"
   ]
  },
  {
   "cell_type": "code",
   "execution_count": 31,
   "metadata": {
    "collapsed": false,
    "scrolled": true
   },
   "outputs": [],
   "source": [
    "for index, row in df_reshape.iterrows():\n",
    "    compressed_category = [x for x in row['category'] if x in top_5]\n",
    "    df_reshape['top_category'][index] = compressed_category"
   ]
  },
  {
   "cell_type": "code",
   "execution_count": 32,
   "metadata": {
    "collapsed": false
   },
   "outputs": [
    {
     "data": {
      "text/html": [
       "<div>\n",
       "<table border=\"1\" class=\"dataframe\">\n",
       "  <thead>\n",
       "    <tr style=\"text-align: right;\">\n",
       "      <th></th>\n",
       "      <th>id</th>\n",
       "      <th>title</th>\n",
       "      <th>category</th>\n",
       "      <th>top_category</th>\n",
       "    </tr>\n",
       "  </thead>\n",
       "  <tbody>\n",
       "    <tr>\n",
       "      <th>0</th>\n",
       "      <td>478441023</td>\n",
       "      <td>Clinton Holds Narrow Lead Over Sanders In Kent...</td>\n",
       "      <td>[Politics, Elections, Politics, U.S., Home Pag...</td>\n",
       "      <td>[Politics, Elections, Politics, U.S., Home Pag...</td>\n",
       "    </tr>\n",
       "    <tr>\n",
       "      <th>1</th>\n",
       "      <td>478417091</td>\n",
       "      <td>Sanders Doubles Down On Nevada Convention Cont...</td>\n",
       "      <td>[Politics, Politics, News, sanders campaign, s...</td>\n",
       "      <td>[Politics, Politics, NPR Stories For Apple New...</td>\n",
       "    </tr>\n",
       "    <tr>\n",
       "      <th>2</th>\n",
       "      <td>478410141</td>\n",
       "      <td>Older Voters To Candidates: Don't Forget About Us</td>\n",
       "      <td>[Elections, Home Page Top Stories, Politics, A...</td>\n",
       "      <td>[Elections, Home Page Top Stories, Politics, N...</td>\n",
       "    </tr>\n",
       "  </tbody>\n",
       "</table>\n",
       "</div>"
      ],
      "text/plain": [
       "          id                                              title  \\\n",
       "0  478441023  Clinton Holds Narrow Lead Over Sanders In Kent...   \n",
       "1  478417091  Sanders Doubles Down On Nevada Convention Cont...   \n",
       "2  478410141  Older Voters To Candidates: Don't Forget About Us   \n",
       "\n",
       "                                            category  \\\n",
       "0  [Politics, Elections, Politics, U.S., Home Pag...   \n",
       "1  [Politics, Politics, News, sanders campaign, s...   \n",
       "2  [Elections, Home Page Top Stories, Politics, A...   \n",
       "\n",
       "                                        top_category  \n",
       "0  [Politics, Elections, Politics, U.S., Home Pag...  \n",
       "1  [Politics, Politics, NPR Stories For Apple New...  \n",
       "2  [Elections, Home Page Top Stories, Politics, N...  "
      ]
     },
     "execution_count": 32,
     "metadata": {},
     "output_type": "execute_result"
    }
   ],
   "source": [
    "df_reshape"
   ]
  },
  {
   "cell_type": "code",
   "execution_count": 33,
   "metadata": {
    "collapsed": true
   },
   "outputs": [],
   "source": [
    "##d3 export:  create a list of pairs of relationships to convert to json\n",
    "\n",
    "pairs_d3 = []"
   ]
  },
  {
   "cell_type": "code",
   "execution_count": 34,
   "metadata": {
    "collapsed": false
   },
   "outputs": [],
   "source": [
    "for category_list in df_reshape['top_category']:\n",
    "    for pair in itertools.combinations(category_list, 2):\n",
    "        pairs_d3.append(pair)"
   ]
  },
  {
   "cell_type": "code",
   "execution_count": 35,
   "metadata": {
    "collapsed": false
   },
   "outputs": [],
   "source": [
    "df_d3 = pd.DataFrame(pairs_d3, columns=('source', 'target'))"
   ]
  },
  {
   "cell_type": "code",
   "execution_count": 36,
   "metadata": {
    "collapsed": false
   },
   "outputs": [
    {
     "data": {
      "text/html": [
       "<div>\n",
       "<table border=\"1\" class=\"dataframe\">\n",
       "  <thead>\n",
       "    <tr style=\"text-align: right;\">\n",
       "      <th></th>\n",
       "      <th>source</th>\n",
       "      <th>target</th>\n",
       "    </tr>\n",
       "  </thead>\n",
       "  <tbody>\n",
       "    <tr>\n",
       "      <th>0</th>\n",
       "      <td>Politics</td>\n",
       "      <td>Elections</td>\n",
       "    </tr>\n",
       "    <tr>\n",
       "      <th>1</th>\n",
       "      <td>Politics</td>\n",
       "      <td>Politics</td>\n",
       "    </tr>\n",
       "    <tr>\n",
       "      <th>2</th>\n",
       "      <td>Politics</td>\n",
       "      <td>U.S.</td>\n",
       "    </tr>\n",
       "    <tr>\n",
       "      <th>3</th>\n",
       "      <td>Politics</td>\n",
       "      <td>Home Page Top Stories</td>\n",
       "    </tr>\n",
       "    <tr>\n",
       "      <th>4</th>\n",
       "      <td>Elections</td>\n",
       "      <td>Politics</td>\n",
       "    </tr>\n",
       "    <tr>\n",
       "      <th>5</th>\n",
       "      <td>Elections</td>\n",
       "      <td>U.S.</td>\n",
       "    </tr>\n",
       "    <tr>\n",
       "      <th>6</th>\n",
       "      <td>Elections</td>\n",
       "      <td>Home Page Top Stories</td>\n",
       "    </tr>\n",
       "    <tr>\n",
       "      <th>7</th>\n",
       "      <td>Politics</td>\n",
       "      <td>U.S.</td>\n",
       "    </tr>\n",
       "    <tr>\n",
       "      <th>8</th>\n",
       "      <td>Politics</td>\n",
       "      <td>Home Page Top Stories</td>\n",
       "    </tr>\n",
       "    <tr>\n",
       "      <th>9</th>\n",
       "      <td>U.S.</td>\n",
       "      <td>Home Page Top Stories</td>\n",
       "    </tr>\n",
       "    <tr>\n",
       "      <th>10</th>\n",
       "      <td>Politics</td>\n",
       "      <td>Politics</td>\n",
       "    </tr>\n",
       "    <tr>\n",
       "      <th>11</th>\n",
       "      <td>Politics</td>\n",
       "      <td>NPR Stories For Apple News</td>\n",
       "    </tr>\n",
       "    <tr>\n",
       "      <th>12</th>\n",
       "      <td>Politics</td>\n",
       "      <td>Elections</td>\n",
       "    </tr>\n",
       "    <tr>\n",
       "      <th>13</th>\n",
       "      <td>Politics</td>\n",
       "      <td>U.S.</td>\n",
       "    </tr>\n",
       "    <tr>\n",
       "      <th>14</th>\n",
       "      <td>Politics</td>\n",
       "      <td>Home Page Top Stories</td>\n",
       "    </tr>\n",
       "    <tr>\n",
       "      <th>15</th>\n",
       "      <td>Politics</td>\n",
       "      <td>NPR Stories For Apple News</td>\n",
       "    </tr>\n",
       "    <tr>\n",
       "      <th>16</th>\n",
       "      <td>Politics</td>\n",
       "      <td>Elections</td>\n",
       "    </tr>\n",
       "    <tr>\n",
       "      <th>17</th>\n",
       "      <td>Politics</td>\n",
       "      <td>U.S.</td>\n",
       "    </tr>\n",
       "    <tr>\n",
       "      <th>18</th>\n",
       "      <td>Politics</td>\n",
       "      <td>Home Page Top Stories</td>\n",
       "    </tr>\n",
       "    <tr>\n",
       "      <th>19</th>\n",
       "      <td>NPR Stories For Apple News</td>\n",
       "      <td>Elections</td>\n",
       "    </tr>\n",
       "    <tr>\n",
       "      <th>20</th>\n",
       "      <td>NPR Stories For Apple News</td>\n",
       "      <td>U.S.</td>\n",
       "    </tr>\n",
       "    <tr>\n",
       "      <th>21</th>\n",
       "      <td>NPR Stories For Apple News</td>\n",
       "      <td>Home Page Top Stories</td>\n",
       "    </tr>\n",
       "    <tr>\n",
       "      <th>22</th>\n",
       "      <td>Elections</td>\n",
       "      <td>U.S.</td>\n",
       "    </tr>\n",
       "    <tr>\n",
       "      <th>23</th>\n",
       "      <td>Elections</td>\n",
       "      <td>Home Page Top Stories</td>\n",
       "    </tr>\n",
       "    <tr>\n",
       "      <th>24</th>\n",
       "      <td>U.S.</td>\n",
       "      <td>Home Page Top Stories</td>\n",
       "    </tr>\n",
       "    <tr>\n",
       "      <th>25</th>\n",
       "      <td>Elections</td>\n",
       "      <td>Home Page Top Stories</td>\n",
       "    </tr>\n",
       "    <tr>\n",
       "      <th>26</th>\n",
       "      <td>Elections</td>\n",
       "      <td>Politics</td>\n",
       "    </tr>\n",
       "    <tr>\n",
       "      <th>27</th>\n",
       "      <td>Elections</td>\n",
       "      <td>NPR Stories For Apple News</td>\n",
       "    </tr>\n",
       "    <tr>\n",
       "      <th>28</th>\n",
       "      <td>Elections</td>\n",
       "      <td>Elections</td>\n",
       "    </tr>\n",
       "    <tr>\n",
       "      <th>29</th>\n",
       "      <td>Elections</td>\n",
       "      <td>U.S.</td>\n",
       "    </tr>\n",
       "    <tr>\n",
       "      <th>30</th>\n",
       "      <td>Home Page Top Stories</td>\n",
       "      <td>Politics</td>\n",
       "    </tr>\n",
       "    <tr>\n",
       "      <th>31</th>\n",
       "      <td>Home Page Top Stories</td>\n",
       "      <td>NPR Stories For Apple News</td>\n",
       "    </tr>\n",
       "    <tr>\n",
       "      <th>32</th>\n",
       "      <td>Home Page Top Stories</td>\n",
       "      <td>Elections</td>\n",
       "    </tr>\n",
       "    <tr>\n",
       "      <th>33</th>\n",
       "      <td>Home Page Top Stories</td>\n",
       "      <td>U.S.</td>\n",
       "    </tr>\n",
       "    <tr>\n",
       "      <th>34</th>\n",
       "      <td>Politics</td>\n",
       "      <td>NPR Stories For Apple News</td>\n",
       "    </tr>\n",
       "    <tr>\n",
       "      <th>35</th>\n",
       "      <td>Politics</td>\n",
       "      <td>Elections</td>\n",
       "    </tr>\n",
       "    <tr>\n",
       "      <th>36</th>\n",
       "      <td>Politics</td>\n",
       "      <td>U.S.</td>\n",
       "    </tr>\n",
       "    <tr>\n",
       "      <th>37</th>\n",
       "      <td>NPR Stories For Apple News</td>\n",
       "      <td>Elections</td>\n",
       "    </tr>\n",
       "    <tr>\n",
       "      <th>38</th>\n",
       "      <td>NPR Stories For Apple News</td>\n",
       "      <td>U.S.</td>\n",
       "    </tr>\n",
       "    <tr>\n",
       "      <th>39</th>\n",
       "      <td>Elections</td>\n",
       "      <td>U.S.</td>\n",
       "    </tr>\n",
       "  </tbody>\n",
       "</table>\n",
       "</div>"
      ],
      "text/plain": [
       "                        source                      target\n",
       "0                     Politics                   Elections\n",
       "1                     Politics                    Politics\n",
       "2                     Politics                        U.S.\n",
       "3                     Politics       Home Page Top Stories\n",
       "4                    Elections                    Politics\n",
       "5                    Elections                        U.S.\n",
       "6                    Elections       Home Page Top Stories\n",
       "7                     Politics                        U.S.\n",
       "8                     Politics       Home Page Top Stories\n",
       "9                         U.S.       Home Page Top Stories\n",
       "10                    Politics                    Politics\n",
       "11                    Politics  NPR Stories For Apple News\n",
       "12                    Politics                   Elections\n",
       "13                    Politics                        U.S.\n",
       "14                    Politics       Home Page Top Stories\n",
       "15                    Politics  NPR Stories For Apple News\n",
       "16                    Politics                   Elections\n",
       "17                    Politics                        U.S.\n",
       "18                    Politics       Home Page Top Stories\n",
       "19  NPR Stories For Apple News                   Elections\n",
       "20  NPR Stories For Apple News                        U.S.\n",
       "21  NPR Stories For Apple News       Home Page Top Stories\n",
       "22                   Elections                        U.S.\n",
       "23                   Elections       Home Page Top Stories\n",
       "24                        U.S.       Home Page Top Stories\n",
       "25                   Elections       Home Page Top Stories\n",
       "26                   Elections                    Politics\n",
       "27                   Elections  NPR Stories For Apple News\n",
       "28                   Elections                   Elections\n",
       "29                   Elections                        U.S.\n",
       "30       Home Page Top Stories                    Politics\n",
       "31       Home Page Top Stories  NPR Stories For Apple News\n",
       "32       Home Page Top Stories                   Elections\n",
       "33       Home Page Top Stories                        U.S.\n",
       "34                    Politics  NPR Stories For Apple News\n",
       "35                    Politics                   Elections\n",
       "36                    Politics                        U.S.\n",
       "37  NPR Stories For Apple News                   Elections\n",
       "38  NPR Stories For Apple News                        U.S.\n",
       "39                   Elections                        U.S."
      ]
     },
     "execution_count": 36,
     "metadata": {},
     "output_type": "execute_result"
    }
   ],
   "source": [
    "df_d3"
   ]
  },
  {
   "cell_type": "code",
   "execution_count": 38,
   "metadata": {
    "collapsed": true
   },
   "outputs": [],
   "source": [
    "df_d3.to_csv('links.csv')"
   ]
  },
  {
   "cell_type": "code",
   "execution_count": 45,
   "metadata": {
    "collapsed": false
   },
   "outputs": [],
   "source": [
    "nodes = pd.DataFrame()"
   ]
  },
  {
   "cell_type": "code",
   "execution_count": 46,
   "metadata": {
    "collapsed": true
   },
   "outputs": [],
   "source": [
    "nodes['node'] = top_5"
   ]
  },
  {
   "cell_type": "code",
   "execution_count": 47,
   "metadata": {
    "collapsed": false
   },
   "outputs": [
    {
     "data": {
      "text/html": [
       "<div>\n",
       "<table border=\"1\" class=\"dataframe\">\n",
       "  <thead>\n",
       "    <tr style=\"text-align: right;\">\n",
       "      <th></th>\n",
       "      <th>node</th>\n",
       "    </tr>\n",
       "  </thead>\n",
       "  <tbody>\n",
       "    <tr>\n",
       "      <th>0</th>\n",
       "      <td>Politics</td>\n",
       "    </tr>\n",
       "    <tr>\n",
       "      <th>1</th>\n",
       "      <td>Elections</td>\n",
       "    </tr>\n",
       "    <tr>\n",
       "      <th>2</th>\n",
       "      <td>U.S.</td>\n",
       "    </tr>\n",
       "    <tr>\n",
       "      <th>3</th>\n",
       "      <td>Home Page Top Stories</td>\n",
       "    </tr>\n",
       "    <tr>\n",
       "      <th>4</th>\n",
       "      <td>NPR Stories For Apple News</td>\n",
       "    </tr>\n",
       "  </tbody>\n",
       "</table>\n",
       "</div>"
      ],
      "text/plain": [
       "                         node\n",
       "0                    Politics\n",
       "1                   Elections\n",
       "2                        U.S.\n",
       "3       Home Page Top Stories\n",
       "4  NPR Stories For Apple News"
      ]
     },
     "execution_count": 47,
     "metadata": {},
     "output_type": "execute_result"
    }
   ],
   "source": [
    "nodes"
   ]
  },
  {
   "cell_type": "code",
   "execution_count": 48,
   "metadata": {
    "collapsed": true
   },
   "outputs": [],
   "source": [
    "nodes.to_csv('nodes.csv')"
   ]
  },
  {
   "cell_type": "code",
   "execution_count": null,
   "metadata": {
    "collapsed": true
   },
   "outputs": [],
   "source": []
  }
 ],
 "metadata": {
  "kernelspec": {
   "display_name": "Python 2",
   "language": "python",
   "name": "python2"
  },
  "language_info": {
   "codemirror_mode": {
    "name": "ipython",
    "version": 2
   },
   "file_extension": ".py",
   "mimetype": "text/x-python",
   "name": "python",
   "nbconvert_exporter": "python",
   "pygments_lexer": "ipython2",
   "version": "2.7.11"
  }
 },
 "nbformat": 4,
 "nbformat_minor": 0
}
