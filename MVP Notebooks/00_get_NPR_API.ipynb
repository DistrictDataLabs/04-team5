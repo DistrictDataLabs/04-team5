{
 "cells": [
  {
   "cell_type": "markdown",
   "metadata": {},
   "source": [
    "## Part 0. Get NPR API\n"
   ]
  },
  {
   "cell_type": "code",
   "execution_count": 10,
   "metadata": {
    "collapsed": false
   },
   "outputs": [
    {
     "data": {
      "text/plain": [
       "u'/Users/judyyang/Documents/DDL4_2016/notebooks'"
      ]
     },
     "execution_count": 10,
     "metadata": {},
     "output_type": "execute_result"
    }
   ],
   "source": [
    "pwd"
   ]
  },
  {
   "cell_type": "code",
   "execution_count": 1,
   "metadata": {
    "collapsed": true
   },
   "outputs": [],
   "source": [
    "from urllib2 import urlopen\n",
    "from json import load, dumps\n",
    "import pandas as pd \n",
    "import json\n",
    "from pandas.io.json import json_normalize\n",
    "import pprint\n",
    "\n",
    "pd.options.display.max_columns = 50\n",
    "pd.options.display.max_rows= 50\n",
    "pd.options.display.width= 120"
   ]
  },
  {
   "cell_type": "code",
   "execution_count": 13,
   "metadata": {
    "collapsed": false
   },
   "outputs": [],
   "source": [
    "url = 'http://api.npr.org/query?apiKey=' \n",
    "key = 'MDA3ODMyODk0MDEzMTA5MTc4NjAyNTc3MQ001'\n",
    "url = url + key\n",
    "url += '&numResults=75&format=json&id=3002'\n",
    "url += \"&fields=title,storyDate,teaser\""
   ]
  },
  {
   "cell_type": "code",
   "execution_count": 15,
   "metadata": {
    "collapsed": false
   },
   "outputs": [
    {
     "name": "stdout",
     "output_type": "stream",
     "text": [
      "http://api.npr.org/query?apiKey=MDA3ODMyODk0MDEzMTA5MTc4NjAyNTc3MQ001&numResults=75&format=json&id=3002&fields=title,storyDate,teaser\n"
     ]
    }
   ],
   "source": [
    "print url"
   ]
  },
  {
   "cell_type": "code",
   "execution_count": 16,
   "metadata": {
    "collapsed": false
   },
   "outputs": [],
   "source": [
    "response = urlopen(url)\n",
    "json_obj = load(response)"
   ]
  },
  {
   "cell_type": "code",
   "execution_count": 5,
   "metadata": {
    "collapsed": false
   },
   "outputs": [],
   "source": [
    "#pretty print\n",
    "pp = pprint.PrettyPrinter(indent=2)\n",
    "#pp.pprint(json_obj)"
   ]
  },
  {
   "cell_type": "code",
   "execution_count": 17,
   "metadata": {
    "collapsed": true
   },
   "outputs": [],
   "source": [
    "#turn into panda\n"
   ]
  },
  {
   "cell_type": "code",
   "execution_count": 18,
   "metadata": {
    "collapsed": false
   },
   "outputs": [
    {
     "data": {
      "text/plain": [
       "(10, 5)"
      ]
     },
     "execution_count": 18,
     "metadata": {},
     "output_type": "execute_result"
    }
   ],
   "source": [
    "df.shape"
   ]
  },
  {
   "cell_type": "code",
   "execution_count": 18,
   "metadata": {
    "collapsed": false
   },
   "outputs": [
    {
     "data": {
      "text/html": [
       "<div>\n",
       "<table border=\"1\" class=\"dataframe\">\n",
       "  <thead>\n",
       "    <tr style=\"text-align: right;\">\n",
       "      <th></th>\n",
       "      <th>id</th>\n",
       "      <th>link</th>\n",
       "      <th>storyDate.$text</th>\n",
       "      <th>teaser.$text</th>\n",
       "      <th>title.$text</th>\n",
       "    </tr>\n",
       "  </thead>\n",
       "  <tbody>\n",
       "    <tr>\n",
       "      <th>0</th>\n",
       "      <td>472297953</td>\n",
       "      <td>[{u'type': u'html', u'$text': u'http://www.npr...</td>\n",
       "      <td>Tue, 29 Mar 2016 18:02:52 -0400</td>\n",
       "      <td>The 4-4 ruling by the high court means the fai...</td>\n",
       "      <td>With Supreme Court Tie, Teachers Unions Dodge ...</td>\n",
       "    </tr>\n",
       "    <tr>\n",
       "      <th>1</th>\n",
       "      <td>472322658</td>\n",
       "      <td>[{u'type': u'html', u'$text': u'http://www.npr...</td>\n",
       "      <td>Tue, 29 Mar 2016 17:58:00 -0400</td>\n",
       "      <td>The case, heard last week, tests the religious...</td>\n",
       "      <td>Supreme Court Orders More Briefs On Birth Cont...</td>\n",
       "    </tr>\n",
       "    <tr>\n",
       "      <th>2</th>\n",
       "      <td>469584112</td>\n",
       "      <td>[{u'type': u'html', u'$text': u'http://www.npr...</td>\n",
       "      <td>Tue, 29 Mar 2016 17:39:18 -0400</td>\n",
       "      <td>Several music fans at SXSW walked away from ou...</td>\n",
       "      <td>Charles Bradley, Live In Concert: SXSW 2016</td>\n",
       "    </tr>\n",
       "    <tr>\n",
       "      <th>3</th>\n",
       "      <td>472276738</td>\n",
       "      <td>[{u'type': u'html', u'$text': u'http://www.npr...</td>\n",
       "      <td>Tue, 29 Mar 2016 17:28:00 -0400</td>\n",
       "      <td>The Band Of Horses guitarist shows the &lt;em&gt;Wor...</td>\n",
       "      <td>Sense Of Place Asheville: Tyler Ramsey</td>\n",
       "    </tr>\n",
       "    <tr>\n",
       "      <th>4</th>\n",
       "      <td>472274972</td>\n",
       "      <td>[{u'type': u'html', u'$text': u'http://www.npr...</td>\n",
       "      <td>Tue, 29 Mar 2016 17:26:47 -0400</td>\n",
       "      <td>Far more than just Steve Martin's band, the gr...</td>\n",
       "      <td>Sense Of Place Asheville: Steep Canyon Rangers</td>\n",
       "    </tr>\n",
       "    <tr>\n",
       "      <th>5</th>\n",
       "      <td>472306759</td>\n",
       "      <td>[{u'type': u'html', u'$text': u'http://www.npr...</td>\n",
       "      <td>Tue, 29 Mar 2016 16:50:00 -0400</td>\n",
       "      <td>The biggest party in Dilma Rousseff's coalitio...</td>\n",
       "      <td>Brazil's President In Further Danger Of Being ...</td>\n",
       "    </tr>\n",
       "    <tr>\n",
       "      <th>6</th>\n",
       "      <td>472305876</td>\n",
       "      <td>[{u'type': u'html', u'$text': u'http://www.npr...</td>\n",
       "      <td>Tue, 29 Mar 2016 16:50:00 -0400</td>\n",
       "      <td>Scientists in Australia say high water tempera...</td>\n",
       "      <td>Massive 'Bleaching' Affects Great Barrier Reef</td>\n",
       "    </tr>\n",
       "    <tr>\n",
       "      <th>7</th>\n",
       "      <td>472309592</td>\n",
       "      <td>[{u'type': u'html', u'$text': u'http://www.npr...</td>\n",
       "      <td>Tue, 29 Mar 2016 16:28:00 -0400</td>\n",
       "      <td>Actress Patty Duke, who played an adolescent H...</td>\n",
       "      <td>Remembering Patty Duke, Hollywood's 'Miracle W...</td>\n",
       "    </tr>\n",
       "    <tr>\n",
       "      <th>8</th>\n",
       "      <td>472309581</td>\n",
       "      <td>[{u'type': u'html', u'$text': u'http://www.npr...</td>\n",
       "      <td>Tue, 29 Mar 2016 16:28:00 -0400</td>\n",
       "      <td>The Obama Administration has announced further...</td>\n",
       "      <td>Obama Announces New Efforts To Tackle Nation's...</td>\n",
       "    </tr>\n",
       "    <tr>\n",
       "      <th>9</th>\n",
       "      <td>472309572</td>\n",
       "      <td>[{u'type': u'html', u'$text': u'http://www.npr...</td>\n",
       "      <td>Tue, 29 Mar 2016 16:28:00 -0400</td>\n",
       "      <td>Hundreds of indigent people live in storm drai...</td>\n",
       "      <td>Why Tijuana's 'Tunnel People' Take The Risk</td>\n",
       "    </tr>\n",
       "  </tbody>\n",
       "</table>\n",
       "</div>"
      ],
      "text/plain": [
       "          id                                               link                  storyDate.$text  \\\n",
       "0  472297953  [{u'type': u'html', u'$text': u'http://www.npr...  Tue, 29 Mar 2016 18:02:52 -0400   \n",
       "1  472322658  [{u'type': u'html', u'$text': u'http://www.npr...  Tue, 29 Mar 2016 17:58:00 -0400   \n",
       "2  469584112  [{u'type': u'html', u'$text': u'http://www.npr...  Tue, 29 Mar 2016 17:39:18 -0400   \n",
       "3  472276738  [{u'type': u'html', u'$text': u'http://www.npr...  Tue, 29 Mar 2016 17:28:00 -0400   \n",
       "4  472274972  [{u'type': u'html', u'$text': u'http://www.npr...  Tue, 29 Mar 2016 17:26:47 -0400   \n",
       "5  472306759  [{u'type': u'html', u'$text': u'http://www.npr...  Tue, 29 Mar 2016 16:50:00 -0400   \n",
       "6  472305876  [{u'type': u'html', u'$text': u'http://www.npr...  Tue, 29 Mar 2016 16:50:00 -0400   \n",
       "7  472309592  [{u'type': u'html', u'$text': u'http://www.npr...  Tue, 29 Mar 2016 16:28:00 -0400   \n",
       "8  472309581  [{u'type': u'html', u'$text': u'http://www.npr...  Tue, 29 Mar 2016 16:28:00 -0400   \n",
       "9  472309572  [{u'type': u'html', u'$text': u'http://www.npr...  Tue, 29 Mar 2016 16:28:00 -0400   \n",
       "\n",
       "                                        teaser.$text                                        title.$text  \n",
       "0  The 4-4 ruling by the high court means the fai...  With Supreme Court Tie, Teachers Unions Dodge ...  \n",
       "1  The case, heard last week, tests the religious...  Supreme Court Orders More Briefs On Birth Cont...  \n",
       "2  Several music fans at SXSW walked away from ou...        Charles Bradley, Live In Concert: SXSW 2016  \n",
       "3  The Band Of Horses guitarist shows the <em>Wor...             Sense Of Place Asheville: Tyler Ramsey  \n",
       "4  Far more than just Steve Martin's band, the gr...     Sense Of Place Asheville: Steep Canyon Rangers  \n",
       "5  The biggest party in Dilma Rousseff's coalitio...  Brazil's President In Further Danger Of Being ...  \n",
       "6  Scientists in Australia say high water tempera...     Massive 'Bleaching' Affects Great Barrier Reef  \n",
       "7  Actress Patty Duke, who played an adolescent H...  Remembering Patty Duke, Hollywood's 'Miracle W...  \n",
       "8  The Obama Administration has announced further...  Obama Announces New Efforts To Tackle Nation's...  \n",
       "9  Hundreds of indigent people live in storm drai...        Why Tijuana's 'Tunnel People' Take The Risk  "
      ]
     },
     "execution_count": 18,
     "metadata": {},
     "output_type": "execute_result"
    }
   ],
   "source": [
    "df\n"
   ]
  },
  {
   "cell_type": "code",
   "execution_count": null,
   "metadata": {
    "collapsed": true
   },
   "outputs": [],
   "source": []
  }
 ],
 "metadata": {
  "kernelspec": {
   "display_name": "Python 2",
   "language": "python",
   "name": "python2"
  },
  "language_info": {
   "codemirror_mode": {
    "name": "ipython",
    "version": 2
   },
   "file_extension": ".py",
   "mimetype": "text/x-python",
   "name": "python",
   "nbconvert_exporter": "python",
   "pygments_lexer": "ipython2",
   "version": "2.7.6"
  }
 },
 "nbformat": 4,
 "nbformat_minor": 0
}
