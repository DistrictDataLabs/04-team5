{
 "cells": [
  {
   "cell_type": "code",
   "execution_count": 2,
   "metadata": {
    "collapsed": false
   },
   "outputs": [],
   "source": [
    "from urllib2 import urlopen\n",
    "from json import load\n",
    "import pandas as pd\n",
    "from pandas.io.json import json_normalize\n",
    "import itertools"
   ]
  },
  {
   "cell_type": "code",
   "execution_count": 3,
   "metadata": {
    "collapsed": false
   },
   "outputs": [],
   "source": [
    "##api_key = 'MDIzNDI5NDMzMDE0NTkwMTI5ODY1NzQ4Ng000'"
   ]
  },
  {
   "cell_type": "code",
   "execution_count": 4,
   "metadata": {
    "collapsed": true
   },
   "outputs": [],
   "source": [
    "url = 'http://api.npr.org/query?apiKey=MDIzNDI5NDMzMDE0NTkwMTI5ODY1NzQ4Ng000&numResults=3&format=json&id=1002'"
   ]
  },
  {
   "cell_type": "code",
   "execution_count": 5,
   "metadata": {
    "collapsed": true
   },
   "outputs": [],
   "source": [
    "response = urlopen(url)\n",
    "json_obj = load(response)"
   ]
  },
  {
   "cell_type": "code",
   "execution_count": 6,
   "metadata": {
    "collapsed": true
   },
   "outputs": [],
   "source": [
    "##the next several cells are test code to practice mapping to the information we want in the df"
   ]
  },
  {
   "cell_type": "code",
   "execution_count": 7,
   "metadata": {
    "collapsed": false,
    "scrolled": true
   },
   "outputs": [
    {
     "data": {
      "text/plain": [
       "\"\\nfor story in json_obj['list']['story']:\\n\\n    print 'ID: ' + story['id']\\n    \\n    print 'TITLE: ' + story['title']['$text']\\n\\n    print 'DATE: ' + story['storyDate']['$text'] + '\\n'\\n\""
      ]
     },
     "execution_count": 7,
     "metadata": {},
     "output_type": "execute_result"
    }
   ],
   "source": [
    "'''\n",
    "for story in json_obj['list']['story']:\n",
    "\n",
    "    print 'ID: ' + story['id']\n",
    "    \n",
    "    print 'TITLE: ' + story['title']['$text']\n",
    "\n",
    "    print 'DATE: ' + story['storyDate']['$text'] + '\\n'\n",
    "'''"
   ]
  },
  {
   "cell_type": "code",
   "execution_count": 8,
   "metadata": {
    "collapsed": false
   },
   "outputs": [
    {
     "data": {
      "text/plain": [
       "\"for story in json_obj['list']['story']:\\n    for parent in story['parent']:\\n        print story['id'], parent['title']['$text']\\n\""
      ]
     },
     "execution_count": 8,
     "metadata": {},
     "output_type": "execute_result"
    }
   ],
   "source": [
    "'''for story in json_obj['list']['story']:\n",
    "    for parent in story['parent']:\n",
    "        print story['id'], parent['title']['$text']\n",
    "'''"
   ]
  },
  {
   "cell_type": "code",
   "execution_count": 9,
   "metadata": {
    "collapsed": false
   },
   "outputs": [
    {
     "data": {
      "text/plain": [
       "\"      \\nfor story in json_obj['list']['story']:\\n    for text in story['text']['paragraph']:\\n        print story['id'], text['$text']\\n\""
      ]
     },
     "execution_count": 9,
     "metadata": {},
     "output_type": "execute_result"
    }
   ],
   "source": [
    "'''for story in json_obj['list']['story']:\n",
    "    print story['id'], story['text']['paragraph']\n",
    "'''\n",
    "'''      \n",
    "for story in json_obj['list']['story']:\n",
    "    for text in story['text']['paragraph']:\n",
    "        print story['id'], text['$text']\n",
    "'''"
   ]
  },
  {
   "cell_type": "code",
   "execution_count": 10,
   "metadata": {
    "collapsed": false
   },
   "outputs": [],
   "source": [
    "## Build the data frame by creating a list of dictionaries, then converting the list of dictionaries into a data frame\n",
    "\n",
    "##First data frame: one row per distinct story category\n",
    "\n",
    "dicts_list = []"
   ]
  },
  {
   "cell_type": "code",
   "execution_count": 11,
   "metadata": {
    "collapsed": false
   },
   "outputs": [],
   "source": [
    "for story in json_obj['list']['story']:\n",
    "    for parent in story['parent']:\n",
    "        d = {\n",
    "            'id': story['id'],\n",
    "            'title': story['title']['$text'],\n",
    "            'category': parent['title']['$text']    \n",
    "        }\n",
    "        dicts_list.append(d)"
   ]
  },
  {
   "cell_type": "code",
   "execution_count": 12,
   "metadata": {
    "collapsed": false
   },
   "outputs": [],
   "source": [
    "df = pd.DataFrame(dicts_list, columns=('id', 'title', 'category'))"
   ]
  },
  {
   "cell_type": "code",
   "execution_count": 13,
   "metadata": {
    "collapsed": false
   },
   "outputs": [
    {
     "data": {
      "text/html": [
       "<div>\n",
       "<table border=\"1\" class=\"dataframe\">\n",
       "  <thead>\n",
       "    <tr style=\"text-align: right;\">\n",
       "      <th></th>\n",
       "      <th>id</th>\n",
       "      <th>title</th>\n",
       "      <th>category</th>\n",
       "    </tr>\n",
       "  </thead>\n",
       "  <tbody>\n",
       "    <tr>\n",
       "      <th>0</th>\n",
       "      <td>477094896</td>\n",
       "      <td>Revisiting A Mother's Day Story Of Separation</td>\n",
       "      <td>Around the Nation</td>\n",
       "    </tr>\n",
       "    <tr>\n",
       "      <th>1</th>\n",
       "      <td>477094896</td>\n",
       "      <td>Revisiting A Mother's Day Story Of Separation</td>\n",
       "      <td>All Things Considered for May 8, 2016</td>\n",
       "    </tr>\n",
       "    <tr>\n",
       "      <th>2</th>\n",
       "      <td>477094896</td>\n",
       "      <td>Revisiting A Mother's Day Story Of Separation</td>\n",
       "      <td>Mother's Day</td>\n",
       "    </tr>\n",
       "    <tr>\n",
       "      <th>3</th>\n",
       "      <td>477094896</td>\n",
       "      <td>Revisiting A Mother's Day Story Of Separation</td>\n",
       "      <td>rehabilitation</td>\n",
       "    </tr>\n",
       "    <tr>\n",
       "      <th>4</th>\n",
       "      <td>477094896</td>\n",
       "      <td>Revisiting A Mother's Day Story Of Separation</td>\n",
       "      <td>District of Columbia</td>\n",
       "    </tr>\n",
       "    <tr>\n",
       "      <th>5</th>\n",
       "      <td>477094896</td>\n",
       "      <td>Revisiting A Mother's Day Story Of Separation</td>\n",
       "      <td>Divorce</td>\n",
       "    </tr>\n",
       "    <tr>\n",
       "      <th>6</th>\n",
       "      <td>477094896</td>\n",
       "      <td>Revisiting A Mother's Day Story Of Separation</td>\n",
       "      <td>Around the Nation</td>\n",
       "    </tr>\n",
       "    <tr>\n",
       "      <th>7</th>\n",
       "      <td>477094896</td>\n",
       "      <td>Revisiting A Mother's Day Story Of Separation</td>\n",
       "      <td>U.S.</td>\n",
       "    </tr>\n",
       "    <tr>\n",
       "      <th>8</th>\n",
       "      <td>477094896</td>\n",
       "      <td>Revisiting A Mother's Day Story Of Separation</td>\n",
       "      <td>Home Page Top Stories</td>\n",
       "    </tr>\n",
       "    <tr>\n",
       "      <th>9</th>\n",
       "      <td>477094896</td>\n",
       "      <td>Revisiting A Mother's Day Story Of Separation</td>\n",
       "      <td>News</td>\n",
       "    </tr>\n",
       "  </tbody>\n",
       "</table>\n",
       "</div>"
      ],
      "text/plain": [
       "          id                                           title  \\\n",
       "0  477094896  Revisiting A Mother's Day Story Of Separation    \n",
       "1  477094896  Revisiting A Mother's Day Story Of Separation    \n",
       "2  477094896  Revisiting A Mother's Day Story Of Separation    \n",
       "3  477094896  Revisiting A Mother's Day Story Of Separation    \n",
       "4  477094896  Revisiting A Mother's Day Story Of Separation    \n",
       "5  477094896  Revisiting A Mother's Day Story Of Separation    \n",
       "6  477094896  Revisiting A Mother's Day Story Of Separation    \n",
       "7  477094896  Revisiting A Mother's Day Story Of Separation    \n",
       "8  477094896  Revisiting A Mother's Day Story Of Separation    \n",
       "9  477094896  Revisiting A Mother's Day Story Of Separation    \n",
       "\n",
       "                                category  \n",
       "0                      Around the Nation  \n",
       "1  All Things Considered for May 8, 2016  \n",
       "2                           Mother's Day  \n",
       "3                         rehabilitation  \n",
       "4                   District of Columbia  \n",
       "5                                Divorce  \n",
       "6                      Around the Nation  \n",
       "7                                   U.S.  \n",
       "8                  Home Page Top Stories  \n",
       "9                                   News  "
      ]
     },
     "execution_count": 13,
     "metadata": {},
     "output_type": "execute_result"
    }
   ],
   "source": [
    "df.head(10)"
   ]
  },
  {
   "cell_type": "code",
   "execution_count": 14,
   "metadata": {
    "collapsed": false
   },
   "outputs": [],
   "source": [
    "##Second data frame: one row per story, with one column containing a list of all the story's categories\n",
    "\n",
    "dicts_reshape = []"
   ]
  },
  {
   "cell_type": "code",
   "execution_count": 15,
   "metadata": {
    "collapsed": false
   },
   "outputs": [],
   "source": [
    "for story in json_obj['list']['story']:\n",
    "    categories_list = []\n",
    "    d = {\n",
    "        'id': story['id'],\n",
    "        'title': story['title']['$text']\n",
    "        }\n",
    "    for parent in story['parent']:\n",
    "        category = parent['title']['$text'].encode('ascii')\n",
    "        categories_list.append(category)   \n",
    "        d['category'] = categories_list\n",
    "    dicts_reshape.append(d)"
   ]
  },
  {
   "cell_type": "code",
   "execution_count": 16,
   "metadata": {
    "collapsed": true
   },
   "outputs": [],
   "source": [
    "df_reshape = pd.DataFrame(dicts_reshape, columns=('id', 'title', 'category'))"
   ]
  },
  {
   "cell_type": "code",
   "execution_count": 17,
   "metadata": {
    "collapsed": false
   },
   "outputs": [
    {
     "data": {
      "text/html": [
       "<div>\n",
       "<table border=\"1\" class=\"dataframe\">\n",
       "  <thead>\n",
       "    <tr style=\"text-align: right;\">\n",
       "      <th></th>\n",
       "      <th>id</th>\n",
       "      <th>title</th>\n",
       "      <th>category</th>\n",
       "    </tr>\n",
       "  </thead>\n",
       "  <tbody>\n",
       "    <tr>\n",
       "      <th>0</th>\n",
       "      <td>477094896</td>\n",
       "      <td>Revisiting A Mother's Day Story Of Separation</td>\n",
       "      <td>[Around the Nation, All Things Considered for ...</td>\n",
       "    </tr>\n",
       "    <tr>\n",
       "      <th>1</th>\n",
       "      <td>473397042</td>\n",
       "      <td>Radio Drama's Leading Man, Still Adventuring</td>\n",
       "      <td>[Digital Life, All Things Considered for May 8...</td>\n",
       "    </tr>\n",
       "    <tr>\n",
       "      <th>2</th>\n",
       "      <td>477046275</td>\n",
       "      <td>Is American Oil 'Dead'? T. Boone Pickens Says ...</td>\n",
       "      <td>[Business, All Things Considered for May 8, 20...</td>\n",
       "    </tr>\n",
       "  </tbody>\n",
       "</table>\n",
       "</div>"
      ],
      "text/plain": [
       "          id                                              title  \\\n",
       "0  477094896     Revisiting A Mother's Day Story Of Separation    \n",
       "1  473397042       Radio Drama's Leading Man, Still Adventuring   \n",
       "2  477046275  Is American Oil 'Dead'? T. Boone Pickens Says ...   \n",
       "\n",
       "                                            category  \n",
       "0  [Around the Nation, All Things Considered for ...  \n",
       "1  [Digital Life, All Things Considered for May 8...  \n",
       "2  [Business, All Things Considered for May 8, 20...  "
      ]
     },
     "execution_count": 17,
     "metadata": {},
     "output_type": "execute_result"
    }
   ],
   "source": [
    "df_reshape"
   ]
  },
  {
   "cell_type": "code",
   "execution_count": 18,
   "metadata": {
    "collapsed": false
   },
   "outputs": [],
   "source": [
    "##df_reshape['category'][0]"
   ]
  },
  {
   "cell_type": "code",
   "execution_count": 19,
   "metadata": {
    "collapsed": true
   },
   "outputs": [],
   "source": [
    "##d3 export:  create a list of pairs of relationships to convert to json\n",
    "\n",
    "pairs_d3 = []"
   ]
  },
  {
   "cell_type": "code",
   "execution_count": 20,
   "metadata": {
    "collapsed": false
   },
   "outputs": [],
   "source": [
    "for category_list in df_reshape['category']:\n",
    "    for pair in itertools.combinations(category_list, 2):\n",
    "        pairs_d3.append(pair)"
   ]
  },
  {
   "cell_type": "code",
   "execution_count": 21,
   "metadata": {
    "collapsed": false
   },
   "outputs": [],
   "source": [
    "df_d3 = pd.DataFrame(pairs_d3, columns=('source', 'target'))"
   ]
  },
  {
   "cell_type": "code",
   "execution_count": 22,
   "metadata": {
    "collapsed": false
   },
   "outputs": [
    {
     "data": {
      "text/html": [
       "<div>\n",
       "<table border=\"1\" class=\"dataframe\">\n",
       "  <thead>\n",
       "    <tr style=\"text-align: right;\">\n",
       "      <th></th>\n",
       "      <th>source</th>\n",
       "      <th>target</th>\n",
       "    </tr>\n",
       "  </thead>\n",
       "  <tbody>\n",
       "    <tr>\n",
       "      <th>0</th>\n",
       "      <td>Around the Nation</td>\n",
       "      <td>All Things Considered for May 8, 2016</td>\n",
       "    </tr>\n",
       "    <tr>\n",
       "      <th>1</th>\n",
       "      <td>Around the Nation</td>\n",
       "      <td>Mother's Day</td>\n",
       "    </tr>\n",
       "    <tr>\n",
       "      <th>2</th>\n",
       "      <td>Around the Nation</td>\n",
       "      <td>rehabilitation</td>\n",
       "    </tr>\n",
       "    <tr>\n",
       "      <th>3</th>\n",
       "      <td>Around the Nation</td>\n",
       "      <td>District of Columbia</td>\n",
       "    </tr>\n",
       "    <tr>\n",
       "      <th>4</th>\n",
       "      <td>Around the Nation</td>\n",
       "      <td>Divorce</td>\n",
       "    </tr>\n",
       "    <tr>\n",
       "      <th>5</th>\n",
       "      <td>Around the Nation</td>\n",
       "      <td>Around the Nation</td>\n",
       "    </tr>\n",
       "    <tr>\n",
       "      <th>6</th>\n",
       "      <td>Around the Nation</td>\n",
       "      <td>U.S.</td>\n",
       "    </tr>\n",
       "    <tr>\n",
       "      <th>7</th>\n",
       "      <td>Around the Nation</td>\n",
       "      <td>Home Page Top Stories</td>\n",
       "    </tr>\n",
       "    <tr>\n",
       "      <th>8</th>\n",
       "      <td>Around the Nation</td>\n",
       "      <td>News</td>\n",
       "    </tr>\n",
       "    <tr>\n",
       "      <th>9</th>\n",
       "      <td>Around the Nation</td>\n",
       "      <td>All Things Considered</td>\n",
       "    </tr>\n",
       "    <tr>\n",
       "      <th>10</th>\n",
       "      <td>All Things Considered for May 8, 2016</td>\n",
       "      <td>Mother's Day</td>\n",
       "    </tr>\n",
       "    <tr>\n",
       "      <th>11</th>\n",
       "      <td>All Things Considered for May 8, 2016</td>\n",
       "      <td>rehabilitation</td>\n",
       "    </tr>\n",
       "    <tr>\n",
       "      <th>12</th>\n",
       "      <td>All Things Considered for May 8, 2016</td>\n",
       "      <td>District of Columbia</td>\n",
       "    </tr>\n",
       "    <tr>\n",
       "      <th>13</th>\n",
       "      <td>All Things Considered for May 8, 2016</td>\n",
       "      <td>Divorce</td>\n",
       "    </tr>\n",
       "    <tr>\n",
       "      <th>14</th>\n",
       "      <td>All Things Considered for May 8, 2016</td>\n",
       "      <td>Around the Nation</td>\n",
       "    </tr>\n",
       "    <tr>\n",
       "      <th>15</th>\n",
       "      <td>All Things Considered for May 8, 2016</td>\n",
       "      <td>U.S.</td>\n",
       "    </tr>\n",
       "    <tr>\n",
       "      <th>16</th>\n",
       "      <td>All Things Considered for May 8, 2016</td>\n",
       "      <td>Home Page Top Stories</td>\n",
       "    </tr>\n",
       "    <tr>\n",
       "      <th>17</th>\n",
       "      <td>All Things Considered for May 8, 2016</td>\n",
       "      <td>News</td>\n",
       "    </tr>\n",
       "    <tr>\n",
       "      <th>18</th>\n",
       "      <td>All Things Considered for May 8, 2016</td>\n",
       "      <td>All Things Considered</td>\n",
       "    </tr>\n",
       "    <tr>\n",
       "      <th>19</th>\n",
       "      <td>Mother's Day</td>\n",
       "      <td>rehabilitation</td>\n",
       "    </tr>\n",
       "    <tr>\n",
       "      <th>20</th>\n",
       "      <td>Mother's Day</td>\n",
       "      <td>District of Columbia</td>\n",
       "    </tr>\n",
       "    <tr>\n",
       "      <th>21</th>\n",
       "      <td>Mother's Day</td>\n",
       "      <td>Divorce</td>\n",
       "    </tr>\n",
       "    <tr>\n",
       "      <th>22</th>\n",
       "      <td>Mother's Day</td>\n",
       "      <td>Around the Nation</td>\n",
       "    </tr>\n",
       "    <tr>\n",
       "      <th>23</th>\n",
       "      <td>Mother's Day</td>\n",
       "      <td>U.S.</td>\n",
       "    </tr>\n",
       "    <tr>\n",
       "      <th>24</th>\n",
       "      <td>Mother's Day</td>\n",
       "      <td>Home Page Top Stories</td>\n",
       "    </tr>\n",
       "    <tr>\n",
       "      <th>25</th>\n",
       "      <td>Mother's Day</td>\n",
       "      <td>News</td>\n",
       "    </tr>\n",
       "    <tr>\n",
       "      <th>26</th>\n",
       "      <td>Mother's Day</td>\n",
       "      <td>All Things Considered</td>\n",
       "    </tr>\n",
       "    <tr>\n",
       "      <th>27</th>\n",
       "      <td>rehabilitation</td>\n",
       "      <td>District of Columbia</td>\n",
       "    </tr>\n",
       "    <tr>\n",
       "      <th>28</th>\n",
       "      <td>rehabilitation</td>\n",
       "      <td>Divorce</td>\n",
       "    </tr>\n",
       "    <tr>\n",
       "      <th>29</th>\n",
       "      <td>rehabilitation</td>\n",
       "      <td>Around the Nation</td>\n",
       "    </tr>\n",
       "    <tr>\n",
       "      <th>...</th>\n",
       "      <td>...</td>\n",
       "      <td>...</td>\n",
       "    </tr>\n",
       "    <tr>\n",
       "      <th>157</th>\n",
       "      <td>Home Page Top Stories</td>\n",
       "      <td>Business</td>\n",
       "    </tr>\n",
       "    <tr>\n",
       "      <th>158</th>\n",
       "      <td>Home Page Top Stories</td>\n",
       "      <td>All Things Considered</td>\n",
       "    </tr>\n",
       "    <tr>\n",
       "      <th>159</th>\n",
       "      <td>NPR.org's Most Popular Stories</td>\n",
       "      <td>T. Boone Pickens</td>\n",
       "    </tr>\n",
       "    <tr>\n",
       "      <th>160</th>\n",
       "      <td>NPR.org's Most Popular Stories</td>\n",
       "      <td>Donald Trump</td>\n",
       "    </tr>\n",
       "    <tr>\n",
       "      <th>161</th>\n",
       "      <td>NPR.org's Most Popular Stories</td>\n",
       "      <td>oil</td>\n",
       "    </tr>\n",
       "    <tr>\n",
       "      <th>162</th>\n",
       "      <td>NPR.org's Most Popular Stories</td>\n",
       "      <td>Environment</td>\n",
       "    </tr>\n",
       "    <tr>\n",
       "      <th>163</th>\n",
       "      <td>NPR.org's Most Popular Stories</td>\n",
       "      <td>Interviews</td>\n",
       "    </tr>\n",
       "    <tr>\n",
       "      <th>164</th>\n",
       "      <td>NPR.org's Most Popular Stories</td>\n",
       "      <td>Business</td>\n",
       "    </tr>\n",
       "    <tr>\n",
       "      <th>165</th>\n",
       "      <td>NPR.org's Most Popular Stories</td>\n",
       "      <td>All Things Considered</td>\n",
       "    </tr>\n",
       "    <tr>\n",
       "      <th>166</th>\n",
       "      <td>T. Boone Pickens</td>\n",
       "      <td>Donald Trump</td>\n",
       "    </tr>\n",
       "    <tr>\n",
       "      <th>167</th>\n",
       "      <td>T. Boone Pickens</td>\n",
       "      <td>oil</td>\n",
       "    </tr>\n",
       "    <tr>\n",
       "      <th>168</th>\n",
       "      <td>T. Boone Pickens</td>\n",
       "      <td>Environment</td>\n",
       "    </tr>\n",
       "    <tr>\n",
       "      <th>169</th>\n",
       "      <td>T. Boone Pickens</td>\n",
       "      <td>Interviews</td>\n",
       "    </tr>\n",
       "    <tr>\n",
       "      <th>170</th>\n",
       "      <td>T. Boone Pickens</td>\n",
       "      <td>Business</td>\n",
       "    </tr>\n",
       "    <tr>\n",
       "      <th>171</th>\n",
       "      <td>T. Boone Pickens</td>\n",
       "      <td>All Things Considered</td>\n",
       "    </tr>\n",
       "    <tr>\n",
       "      <th>172</th>\n",
       "      <td>Donald Trump</td>\n",
       "      <td>oil</td>\n",
       "    </tr>\n",
       "    <tr>\n",
       "      <th>173</th>\n",
       "      <td>Donald Trump</td>\n",
       "      <td>Environment</td>\n",
       "    </tr>\n",
       "    <tr>\n",
       "      <th>174</th>\n",
       "      <td>Donald Trump</td>\n",
       "      <td>Interviews</td>\n",
       "    </tr>\n",
       "    <tr>\n",
       "      <th>175</th>\n",
       "      <td>Donald Trump</td>\n",
       "      <td>Business</td>\n",
       "    </tr>\n",
       "    <tr>\n",
       "      <th>176</th>\n",
       "      <td>Donald Trump</td>\n",
       "      <td>All Things Considered</td>\n",
       "    </tr>\n",
       "    <tr>\n",
       "      <th>177</th>\n",
       "      <td>oil</td>\n",
       "      <td>Environment</td>\n",
       "    </tr>\n",
       "    <tr>\n",
       "      <th>178</th>\n",
       "      <td>oil</td>\n",
       "      <td>Interviews</td>\n",
       "    </tr>\n",
       "    <tr>\n",
       "      <th>179</th>\n",
       "      <td>oil</td>\n",
       "      <td>Business</td>\n",
       "    </tr>\n",
       "    <tr>\n",
       "      <th>180</th>\n",
       "      <td>oil</td>\n",
       "      <td>All Things Considered</td>\n",
       "    </tr>\n",
       "    <tr>\n",
       "      <th>181</th>\n",
       "      <td>Environment</td>\n",
       "      <td>Interviews</td>\n",
       "    </tr>\n",
       "    <tr>\n",
       "      <th>182</th>\n",
       "      <td>Environment</td>\n",
       "      <td>Business</td>\n",
       "    </tr>\n",
       "    <tr>\n",
       "      <th>183</th>\n",
       "      <td>Environment</td>\n",
       "      <td>All Things Considered</td>\n",
       "    </tr>\n",
       "    <tr>\n",
       "      <th>184</th>\n",
       "      <td>Interviews</td>\n",
       "      <td>Business</td>\n",
       "    </tr>\n",
       "    <tr>\n",
       "      <th>185</th>\n",
       "      <td>Interviews</td>\n",
       "      <td>All Things Considered</td>\n",
       "    </tr>\n",
       "    <tr>\n",
       "      <th>186</th>\n",
       "      <td>Business</td>\n",
       "      <td>All Things Considered</td>\n",
       "    </tr>\n",
       "  </tbody>\n",
       "</table>\n",
       "<p>187 rows × 2 columns</p>\n",
       "</div>"
      ],
      "text/plain": [
       "                                    source  \\\n",
       "0                        Around the Nation   \n",
       "1                        Around the Nation   \n",
       "2                        Around the Nation   \n",
       "3                        Around the Nation   \n",
       "4                        Around the Nation   \n",
       "5                        Around the Nation   \n",
       "6                        Around the Nation   \n",
       "7                        Around the Nation   \n",
       "8                        Around the Nation   \n",
       "9                        Around the Nation   \n",
       "10   All Things Considered for May 8, 2016   \n",
       "11   All Things Considered for May 8, 2016   \n",
       "12   All Things Considered for May 8, 2016   \n",
       "13   All Things Considered for May 8, 2016   \n",
       "14   All Things Considered for May 8, 2016   \n",
       "15   All Things Considered for May 8, 2016   \n",
       "16   All Things Considered for May 8, 2016   \n",
       "17   All Things Considered for May 8, 2016   \n",
       "18   All Things Considered for May 8, 2016   \n",
       "19                            Mother's Day   \n",
       "20                            Mother's Day   \n",
       "21                            Mother's Day   \n",
       "22                            Mother's Day   \n",
       "23                            Mother's Day   \n",
       "24                            Mother's Day   \n",
       "25                            Mother's Day   \n",
       "26                            Mother's Day   \n",
       "27                          rehabilitation   \n",
       "28                          rehabilitation   \n",
       "29                          rehabilitation   \n",
       "..                                     ...   \n",
       "157                  Home Page Top Stories   \n",
       "158                  Home Page Top Stories   \n",
       "159         NPR.org's Most Popular Stories   \n",
       "160         NPR.org's Most Popular Stories   \n",
       "161         NPR.org's Most Popular Stories   \n",
       "162         NPR.org's Most Popular Stories   \n",
       "163         NPR.org's Most Popular Stories   \n",
       "164         NPR.org's Most Popular Stories   \n",
       "165         NPR.org's Most Popular Stories   \n",
       "166                       T. Boone Pickens   \n",
       "167                       T. Boone Pickens   \n",
       "168                       T. Boone Pickens   \n",
       "169                       T. Boone Pickens   \n",
       "170                       T. Boone Pickens   \n",
       "171                       T. Boone Pickens   \n",
       "172                           Donald Trump   \n",
       "173                           Donald Trump   \n",
       "174                           Donald Trump   \n",
       "175                           Donald Trump   \n",
       "176                           Donald Trump   \n",
       "177                                    oil   \n",
       "178                                    oil   \n",
       "179                                    oil   \n",
       "180                                    oil   \n",
       "181                            Environment   \n",
       "182                            Environment   \n",
       "183                            Environment   \n",
       "184                             Interviews   \n",
       "185                             Interviews   \n",
       "186                               Business   \n",
       "\n",
       "                                    target  \n",
       "0    All Things Considered for May 8, 2016  \n",
       "1                             Mother's Day  \n",
       "2                           rehabilitation  \n",
       "3                     District of Columbia  \n",
       "4                                  Divorce  \n",
       "5                        Around the Nation  \n",
       "6                                     U.S.  \n",
       "7                    Home Page Top Stories  \n",
       "8                                     News  \n",
       "9                    All Things Considered  \n",
       "10                            Mother's Day  \n",
       "11                          rehabilitation  \n",
       "12                    District of Columbia  \n",
       "13                                 Divorce  \n",
       "14                       Around the Nation  \n",
       "15                                    U.S.  \n",
       "16                   Home Page Top Stories  \n",
       "17                                    News  \n",
       "18                   All Things Considered  \n",
       "19                          rehabilitation  \n",
       "20                    District of Columbia  \n",
       "21                                 Divorce  \n",
       "22                       Around the Nation  \n",
       "23                                    U.S.  \n",
       "24                   Home Page Top Stories  \n",
       "25                                    News  \n",
       "26                   All Things Considered  \n",
       "27                    District of Columbia  \n",
       "28                                 Divorce  \n",
       "29                       Around the Nation  \n",
       "..                                     ...  \n",
       "157                               Business  \n",
       "158                  All Things Considered  \n",
       "159                       T. Boone Pickens  \n",
       "160                           Donald Trump  \n",
       "161                                    oil  \n",
       "162                            Environment  \n",
       "163                             Interviews  \n",
       "164                               Business  \n",
       "165                  All Things Considered  \n",
       "166                           Donald Trump  \n",
       "167                                    oil  \n",
       "168                            Environment  \n",
       "169                             Interviews  \n",
       "170                               Business  \n",
       "171                  All Things Considered  \n",
       "172                                    oil  \n",
       "173                            Environment  \n",
       "174                             Interviews  \n",
       "175                               Business  \n",
       "176                  All Things Considered  \n",
       "177                            Environment  \n",
       "178                             Interviews  \n",
       "179                               Business  \n",
       "180                  All Things Considered  \n",
       "181                             Interviews  \n",
       "182                               Business  \n",
       "183                  All Things Considered  \n",
       "184                               Business  \n",
       "185                  All Things Considered  \n",
       "186                  All Things Considered  \n",
       "\n",
       "[187 rows x 2 columns]"
      ]
     },
     "execution_count": 22,
     "metadata": {},
     "output_type": "execute_result"
    }
   ],
   "source": [
    "df_d3"
   ]
  },
  {
   "cell_type": "code",
   "execution_count": 23,
   "metadata": {
    "collapsed": true
   },
   "outputs": [],
   "source": [
    "df_d3.to_csv('d3_test.csv')"
   ]
  },
  {
   "cell_type": "code",
   "execution_count": null,
   "metadata": {
    "collapsed": true
   },
   "outputs": [],
   "source": []
  }
 ],
 "metadata": {
  "kernelspec": {
   "display_name": "Python 2",
   "language": "python",
   "name": "python2"
  },
  "language_info": {
   "codemirror_mode": {
    "name": "ipython",
    "version": 2
   },
   "file_extension": ".py",
   "mimetype": "text/x-python",
   "name": "python",
   "nbconvert_exporter": "python",
   "pygments_lexer": "ipython2",
   "version": "2.7.11"
  }
 },
 "nbformat": 4,
 "nbformat_minor": 0
}
