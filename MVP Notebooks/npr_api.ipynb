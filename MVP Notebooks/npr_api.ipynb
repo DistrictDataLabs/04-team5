{
 "cells": [
  {
   "cell_type": "code",
   "execution_count": 1,
   "metadata": {
    "collapsed": false
   },
   "outputs": [],
   "source": [
    "from urllib2 import urlopen\n",
    "from json import load\n",
    "import pandas as pd\n",
    "from pandas.io.json import json_normalize\n",
    "import itertools"
   ]
  },
  {
   "cell_type": "code",
   "execution_count": 2,
   "metadata": {
    "collapsed": false
   },
   "outputs": [],
   "source": [
    "##api_key = 'MDIzNDI5NDMzMDE0NTkwMTI5ODY1NzQ4Ng000'"
   ]
  },
  {
   "cell_type": "code",
   "execution_count": 3,
   "metadata": {
    "collapsed": true
   },
   "outputs": [],
   "source": [
    "url = 'http://api.npr.org/query?apiKey=MDIzNDI5NDMzMDE0NTkwMTI5ODY1NzQ4Ng000&numResults=50&format=json&id=1002'"
   ]
  },
  {
   "cell_type": "code",
   "execution_count": 4,
   "metadata": {
    "collapsed": true
   },
   "outputs": [],
   "source": [
    "response = urlopen(url)\n",
    "json_obj = load(response)"
   ]
  },
  {
   "cell_type": "code",
   "execution_count": 5,
   "metadata": {
    "collapsed": true
   },
   "outputs": [],
   "source": [
    "##the next several cells are test code to practice mapping to the information we want in the df -- commented out for now"
   ]
  },
  {
   "cell_type": "code",
   "execution_count": 6,
   "metadata": {
    "collapsed": false,
    "scrolled": true
   },
   "outputs": [
    {
     "data": {
      "text/plain": [
       "\"\\nfor story in json_obj['list']['story']:\\n\\n    print 'ID: ' + story['id']\\n    \\n    print 'TITLE: ' + story['title']['$text']\\n\\n    print 'DATE: ' + story['storyDate']['$text'] + '\\n'\\n\""
      ]
     },
     "execution_count": 6,
     "metadata": {},
     "output_type": "execute_result"
    }
   ],
   "source": [
    "'''\n",
    "for story in json_obj['list']['story']:\n",
    "\n",
    "    print 'ID: ' + story['id']\n",
    "    \n",
    "    print 'TITLE: ' + story['title']['$text']\n",
    "\n",
    "    print 'DATE: ' + story['storyDate']['$text'] + '\\n'\n",
    "'''"
   ]
  },
  {
   "cell_type": "code",
   "execution_count": 7,
   "metadata": {
    "collapsed": false
   },
   "outputs": [
    {
     "data": {
      "text/plain": [
       "\"for story in json_obj['list']['story']:\\n    for parent in story['parent']:\\n        print story['id'], parent['title']['$text']\\n\""
      ]
     },
     "execution_count": 7,
     "metadata": {},
     "output_type": "execute_result"
    }
   ],
   "source": [
    "'''for story in json_obj['list']['story']:\n",
    "    for parent in story['parent']:\n",
    "        print story['id'], parent['title']['$text']\n",
    "'''"
   ]
  },
  {
   "cell_type": "code",
   "execution_count": 8,
   "metadata": {
    "collapsed": false
   },
   "outputs": [
    {
     "data": {
      "text/plain": [
       "\"      \\nfor story in json_obj['list']['story']:\\n    for text in story['text']['paragraph']:\\n        print story['id'], text['$text']\\n\""
      ]
     },
     "execution_count": 8,
     "metadata": {},
     "output_type": "execute_result"
    }
   ],
   "source": [
    "'''for story in json_obj['list']['story']:\n",
    "    print story['id'], story['text']['paragraph']\n",
    "'''\n",
    "'''      \n",
    "for story in json_obj['list']['story']:\n",
    "    for text in story['text']['paragraph']:\n",
    "        print story['id'], text['$text']\n",
    "'''"
   ]
  },
  {
   "cell_type": "code",
   "execution_count": 9,
   "metadata": {
    "collapsed": false
   },
   "outputs": [],
   "source": [
    "## Build the data frame by creating a list of dictionaries, then converting the list of dictionaries into a data frame\n",
    "\n",
    "##First data frame: one row per distinct story category\n",
    "\n",
    "dicts_list = []"
   ]
  },
  {
   "cell_type": "code",
   "execution_count": 10,
   "metadata": {
    "collapsed": false
   },
   "outputs": [],
   "source": [
    "for story in json_obj['list']['story']:\n",
    "    for parent in story['parent']:\n",
    "        d = {\n",
    "            'id': story['id'],\n",
    "            'title': story['title']['$text'].encode('ascii'),\n",
    "            'category': parent['title']['$text'].encode('ascii')    \n",
    "        }\n",
    "        dicts_list.append(d)"
   ]
  },
  {
   "cell_type": "code",
   "execution_count": 11,
   "metadata": {
    "collapsed": false
   },
   "outputs": [],
   "source": [
    "df = pd.DataFrame(dicts_list, columns=('id', 'title', 'category'))"
   ]
  },
  {
   "cell_type": "code",
   "execution_count": 12,
   "metadata": {
    "collapsed": false
   },
   "outputs": [
    {
     "data": {
      "text/html": [
       "<div>\n",
       "<table border=\"1\" class=\"dataframe\">\n",
       "  <thead>\n",
       "    <tr style=\"text-align: right;\">\n",
       "      <th></th>\n",
       "      <th>id</th>\n",
       "      <th>title</th>\n",
       "      <th>category</th>\n",
       "    </tr>\n",
       "  </thead>\n",
       "  <tbody>\n",
       "    <tr>\n",
       "      <th>0</th>\n",
       "      <td>481776539</td>\n",
       "      <td>Obama: 'An Attack On Any American ... Is An At...</td>\n",
       "      <td>News</td>\n",
       "    </tr>\n",
       "    <tr>\n",
       "      <th>1</th>\n",
       "      <td>481776539</td>\n",
       "      <td>Obama: 'An Attack On Any American ... Is An At...</td>\n",
       "      <td>Home Page Top Stories</td>\n",
       "    </tr>\n",
       "    <tr>\n",
       "      <th>2</th>\n",
       "      <td>481776539</td>\n",
       "      <td>Obama: 'An Attack On Any American ... Is An At...</td>\n",
       "      <td>mass shootings</td>\n",
       "    </tr>\n",
       "    <tr>\n",
       "      <th>3</th>\n",
       "      <td>481776539</td>\n",
       "      <td>Obama: 'An Attack On Any American ... Is An At...</td>\n",
       "      <td>Orlando</td>\n",
       "    </tr>\n",
       "    <tr>\n",
       "      <th>4</th>\n",
       "      <td>481776539</td>\n",
       "      <td>Obama: 'An Attack On Any American ... Is An At...</td>\n",
       "      <td>America</td>\n",
       "    </tr>\n",
       "  </tbody>\n",
       "</table>\n",
       "</div>"
      ],
      "text/plain": [
       "          id                                              title  \\\n",
       "0  481776539  Obama: 'An Attack On Any American ... Is An At...   \n",
       "1  481776539  Obama: 'An Attack On Any American ... Is An At...   \n",
       "2  481776539  Obama: 'An Attack On Any American ... Is An At...   \n",
       "3  481776539  Obama: 'An Attack On Any American ... Is An At...   \n",
       "4  481776539  Obama: 'An Attack On Any American ... Is An At...   \n",
       "\n",
       "                category  \n",
       "0                   News  \n",
       "1  Home Page Top Stories  \n",
       "2         mass shootings  \n",
       "3                Orlando  \n",
       "4                America  "
      ]
     },
     "execution_count": 12,
     "metadata": {},
     "output_type": "execute_result"
    }
   ],
   "source": [
    "df.head(5)"
   ]
  },
  {
   "cell_type": "code",
   "execution_count": 25,
   "metadata": {
    "collapsed": false
   },
   "outputs": [
    {
     "data": {
      "text/plain": [
       "591"
      ]
     },
     "execution_count": 25,
     "metadata": {},
     "output_type": "execute_result"
    }
   ],
   "source": [
    "len(df)"
   ]
  },
  {
   "cell_type": "code",
   "execution_count": 31,
   "metadata": {
    "collapsed": false
   },
   "outputs": [
    {
     "data": {
      "text/plain": [
       "208"
      ]
     },
     "execution_count": 31,
     "metadata": {},
     "output_type": "execute_result"
    }
   ],
   "source": [
    "len(df['category'].unique())"
   ]
  },
  {
   "cell_type": "code",
   "execution_count": 13,
   "metadata": {
    "collapsed": false
   },
   "outputs": [],
   "source": [
    "##Second data frame: one row per story, with one column containing a list of all the story's categories\n",
    "\n",
    "dicts_reshape = []"
   ]
  },
  {
   "cell_type": "code",
   "execution_count": 14,
   "metadata": {
    "collapsed": false
   },
   "outputs": [],
   "source": [
    "for story in json_obj['list']['story']:\n",
    "    categories_list = []\n",
    "    d = {\n",
    "        'id': story['id'],\n",
    "        'title': story['title']['$text'].encode('ascii')\n",
    "        }\n",
    "    for parent in story['parent']:\n",
    "        category = parent['title']['$text'].encode('ascii')\n",
    "        categories_list.append(category)   \n",
    "        d['category'] = categories_list\n",
    "        d['top_category'] = []\n",
    "    dicts_reshape.append(d)"
   ]
  },
  {
   "cell_type": "code",
   "execution_count": 15,
   "metadata": {
    "collapsed": false
   },
   "outputs": [],
   "source": [
    "df_reshape = pd.DataFrame(dicts_reshape, columns=('id', 'title', 'category', 'top_category'))"
   ]
  },
  {
   "cell_type": "code",
   "execution_count": 32,
   "metadata": {
    "collapsed": false
   },
   "outputs": [
    {
     "data": {
      "text/html": [
       "<div>\n",
       "<table border=\"1\" class=\"dataframe\">\n",
       "  <thead>\n",
       "    <tr style=\"text-align: right;\">\n",
       "      <th></th>\n",
       "      <th>id</th>\n",
       "      <th>title</th>\n",
       "      <th>category</th>\n",
       "      <th>top_category</th>\n",
       "    </tr>\n",
       "  </thead>\n",
       "  <tbody>\n",
       "    <tr>\n",
       "      <th>0</th>\n",
       "      <td>481776539</td>\n",
       "      <td>Obama: 'An Attack On Any American ... Is An At...</td>\n",
       "      <td>[News, Home Page Top Stories, mass shootings, ...</td>\n",
       "      <td>[]</td>\n",
       "    </tr>\n",
       "    <tr>\n",
       "      <th>1</th>\n",
       "      <td>481766394</td>\n",
       "      <td>50 Dead, 53 Hospitalized In Orlando Shooting</td>\n",
       "      <td>[U.S., Weekend Edition Sunday for June 12, 201...</td>\n",
       "      <td>[]</td>\n",
       "    </tr>\n",
       "    <tr>\n",
       "      <th>2</th>\n",
       "      <td>481702569</td>\n",
       "      <td>This Puzzle Packs Syllables Into Small Spaces</td>\n",
       "      <td>[Games &amp; Humor, Weekend Edition Sunday for Jun...</td>\n",
       "      <td>[]</td>\n",
       "    </tr>\n",
       "    <tr>\n",
       "      <th>3</th>\n",
       "      <td>481679101</td>\n",
       "      <td>To Fight Floundering Attendance, SeaWorld Turn...</td>\n",
       "      <td>[Business, Weekend Edition Sunday for June 12,...</td>\n",
       "      <td>[]</td>\n",
       "    </tr>\n",
       "    <tr>\n",
       "      <th>4</th>\n",
       "      <td>481620159</td>\n",
       "      <td>Latinos And American Identity In A Time Of Tru...</td>\n",
       "      <td>[Politics, News, Weekend Edition Sunday for Ju...</td>\n",
       "      <td>[]</td>\n",
       "    </tr>\n",
       "  </tbody>\n",
       "</table>\n",
       "</div>"
      ],
      "text/plain": [
       "          id                                              title  \\\n",
       "0  481776539  Obama: 'An Attack On Any American ... Is An At...   \n",
       "1  481766394       50 Dead, 53 Hospitalized In Orlando Shooting   \n",
       "2  481702569      This Puzzle Packs Syllables Into Small Spaces   \n",
       "3  481679101  To Fight Floundering Attendance, SeaWorld Turn...   \n",
       "4  481620159  Latinos And American Identity In A Time Of Tru...   \n",
       "\n",
       "                                            category top_category  \n",
       "0  [News, Home Page Top Stories, mass shootings, ...           []  \n",
       "1  [U.S., Weekend Edition Sunday for June 12, 201...           []  \n",
       "2  [Games & Humor, Weekend Edition Sunday for Jun...           []  \n",
       "3  [Business, Weekend Edition Sunday for June 12,...           []  \n",
       "4  [Politics, News, Weekend Edition Sunday for Ju...           []  "
      ]
     },
     "execution_count": 32,
     "metadata": {},
     "output_type": "execute_result"
    }
   ],
   "source": [
    "df_reshape.head()"
   ]
  },
  {
   "cell_type": "code",
   "execution_count": 17,
   "metadata": {
    "collapsed": false
   },
   "outputs": [
    {
     "data": {
      "text/plain": [
       "['News',\n",
       " 'Home Page Top Stories',\n",
       " 'mass shootings',\n",
       " 'Orlando',\n",
       " 'America',\n",
       " 'Barack Obama',\n",
       " 'The Two-Way',\n",
       " 'News']"
      ]
     },
     "execution_count": 17,
     "metadata": {},
     "output_type": "execute_result"
    }
   ],
   "source": [
    "df_reshape['category'][0]"
   ]
  },
  {
   "cell_type": "code",
   "execution_count": 105,
   "metadata": {
    "collapsed": false
   },
   "outputs": [],
   "source": [
    "##determine most popular categories\n",
    "all_categories = df['category'].tolist()"
   ]
  },
  {
   "cell_type": "code",
   "execution_count": 107,
   "metadata": {
    "collapsed": false
   },
   "outputs": [],
   "source": [
    "stop_categories = ['#MemeOfTheWeek','All Things Considered','All Things Considered for June 10, 2016',\n",
    "                   'All Things Considered for June 11, 2016','Classical Notes Newsletter','Code Switch',\n",
    "                   'Goats and Soda','Home Page Top Stories','Latest From NPR News','MPX Break','MPX Invest',\n",
    "                   'MPX Music interviews','MPX Open Door','MPX Parking Lot','MPX election stories ',\n",
    "                   'Must Reads','Music Makers','NPR Selects','NPR Stories For Apple News',\n",
    "                   \"NPR.org's Most Popular Stories\",'Policy-ish','Shots - Health News','Story of the Day',\n",
    "                   'The Two-Way','Two-Way Featured Post Two',\"Wait Wait...Don't Tell Me!\",\n",
    "                   \"Wait Wait...Don't Tell Me! For June 11, 2016\",'Weekend Edition Saturday',\n",
    "                   'Weekend Edition Saturday for June 11, 2016','Weekend Edition Sunday',\n",
    "                   'Weekend Edition Sunday for June 12, 2016','World Story of the Day','Your Health',\n",
    "                   'nprreads','sunday puzzle','A No. 1']"
   ]
  },
  {
   "cell_type": "code",
   "execution_count": 108,
   "metadata": {
    "collapsed": true
   },
   "outputs": [],
   "source": [
    "all_categories_filtered = [x for x in all_categories if x not in stop_categories]"
   ]
  },
  {
   "cell_type": "code",
   "execution_count": 109,
   "metadata": {
    "collapsed": false
   },
   "outputs": [
    {
     "data": {
      "text/plain": [
       "591"
      ]
     },
     "execution_count": 109,
     "metadata": {},
     "output_type": "execute_result"
    }
   ],
   "source": [
    "len(all_categories)"
   ]
  },
  {
   "cell_type": "code",
   "execution_count": 110,
   "metadata": {
    "collapsed": false
   },
   "outputs": [
    {
     "data": {
      "text/plain": [
       "393"
      ]
     },
     "execution_count": 110,
     "metadata": {},
     "output_type": "execute_result"
    }
   ],
   "source": [
    "len(all_categories_filtered)"
   ]
  },
  {
   "cell_type": "code",
   "execution_count": 111,
   "metadata": {
    "collapsed": true
   },
   "outputs": [],
   "source": [
    "category_counter = {}  "
   ]
  },
  {
   "cell_type": "code",
   "execution_count": 112,
   "metadata": {
    "collapsed": true
   },
   "outputs": [],
   "source": [
    "for category in all_categories_filtered:\n",
    "    if category in category_counter:\n",
    "        category_counter[category] += 1\n",
    "    else:\n",
    "        category_counter[category] = 1"
   ]
  },
  {
   "cell_type": "code",
   "execution_count": 113,
   "metadata": {
    "collapsed": true
   },
   "outputs": [],
   "source": [
    "popular_categories = sorted(category_counter, key = category_counter.get, reverse = True)"
   ]
  },
  {
   "cell_type": "code",
   "execution_count": 114,
   "metadata": {
    "collapsed": true
   },
   "outputs": [],
   "source": [
    "top_5 = popular_categories[:5]"
   ]
  },
  {
   "cell_type": "code",
   "execution_count": 115,
   "metadata": {
    "collapsed": false
   },
   "outputs": [
    {
     "data": {
      "text/plain": [
       "['News', 'U.S.', 'Around the Nation', 'World', 'Politics']"
      ]
     },
     "execution_count": 115,
     "metadata": {},
     "output_type": "execute_result"
    }
   ],
   "source": [
    "top_5"
   ]
  },
  {
   "cell_type": "code",
   "execution_count": 116,
   "metadata": {
    "collapsed": true
   },
   "outputs": [],
   "source": [
    "top_30 = popular_categories[:30]"
   ]
  },
  {
   "cell_type": "code",
   "execution_count": 117,
   "metadata": {
    "collapsed": false,
    "scrolled": true
   },
   "outputs": [
    {
     "data": {
      "text/plain": [
       "['News',\n",
       " 'U.S.',\n",
       " 'Around the Nation',\n",
       " 'World',\n",
       " 'Politics',\n",
       " 'America',\n",
       " 'Arts & Life',\n",
       " 'Business',\n",
       " 'Health',\n",
       " 'Music',\n",
       " 'International',\n",
       " 'Sports',\n",
       " 'Books',\n",
       " 'Global Health',\n",
       " 'Environment',\n",
       " 'Book Reviews',\n",
       " 'Author Interviews',\n",
       " 'Health Care',\n",
       " 'Race',\n",
       " 'Science',\n",
       " 'Games & Humor',\n",
       " 'Medical Treatments',\n",
       " 'Donald Trump',\n",
       " 'Remembrances',\n",
       " 'Fiction',\n",
       " 'Orlando',\n",
       " 'Elections',\n",
       " 'Africa',\n",
       " 'Law',\n",
       " 'Middle East']"
      ]
     },
     "execution_count": 117,
     "metadata": {},
     "output_type": "execute_result"
    }
   ],
   "source": [
    "top_30"
   ]
  },
  {
   "cell_type": "code",
   "execution_count": 118,
   "metadata": {
    "collapsed": true
   },
   "outputs": [],
   "source": [
    "##filter category lists to retain only top categories"
   ]
  },
  {
   "cell_type": "code",
   "execution_count": 119,
   "metadata": {
    "collapsed": false,
    "scrolled": true
   },
   "outputs": [],
   "source": [
    "for index, row in df_reshape.iterrows():\n",
    "    compressed_category = [x for x in row['category'] if x in top_30]\n",
    "    df_reshape['top_category'][index] = compressed_category"
   ]
  },
  {
   "cell_type": "code",
   "execution_count": 120,
   "metadata": {
    "collapsed": false
   },
   "outputs": [
    {
     "data": {
      "text/html": [
       "<div>\n",
       "<table border=\"1\" class=\"dataframe\">\n",
       "  <thead>\n",
       "    <tr style=\"text-align: right;\">\n",
       "      <th></th>\n",
       "      <th>id</th>\n",
       "      <th>title</th>\n",
       "      <th>category</th>\n",
       "      <th>top_category</th>\n",
       "    </tr>\n",
       "  </thead>\n",
       "  <tbody>\n",
       "    <tr>\n",
       "      <th>0</th>\n",
       "      <td>481776539</td>\n",
       "      <td>Obama: 'An Attack On Any American ... Is An At...</td>\n",
       "      <td>[News, Home Page Top Stories, mass shootings, ...</td>\n",
       "      <td>[News, Orlando, America, News]</td>\n",
       "    </tr>\n",
       "    <tr>\n",
       "      <th>1</th>\n",
       "      <td>481766394</td>\n",
       "      <td>50 Dead, 53 Hospitalized In Orlando Shooting</td>\n",
       "      <td>[U.S., Weekend Edition Sunday for June 12, 201...</td>\n",
       "      <td>[U.S., Around the Nation, U.S., News]</td>\n",
       "    </tr>\n",
       "    <tr>\n",
       "      <th>2</th>\n",
       "      <td>481702569</td>\n",
       "      <td>This Puzzle Packs Syllables Into Small Spaces</td>\n",
       "      <td>[Games &amp; Humor, Weekend Edition Sunday for Jun...</td>\n",
       "      <td>[Games &amp; Humor, Games &amp; Humor]</td>\n",
       "    </tr>\n",
       "    <tr>\n",
       "      <th>3</th>\n",
       "      <td>481679101</td>\n",
       "      <td>To Fight Floundering Attendance, SeaWorld Turn...</td>\n",
       "      <td>[Business, Weekend Edition Sunday for June 12,...</td>\n",
       "      <td>[Business, Around the Nation, Business, U.S., ...</td>\n",
       "    </tr>\n",
       "    <tr>\n",
       "      <th>4</th>\n",
       "      <td>481620159</td>\n",
       "      <td>Latinos And American Identity In A Time Of Tru...</td>\n",
       "      <td>[Politics, News, Weekend Edition Sunday for Ju...</td>\n",
       "      <td>[Politics, News, Elections, Donald Trump, Amer...</td>\n",
       "    </tr>\n",
       "  </tbody>\n",
       "</table>\n",
       "</div>"
      ],
      "text/plain": [
       "          id                                              title  \\\n",
       "0  481776539  Obama: 'An Attack On Any American ... Is An At...   \n",
       "1  481766394       50 Dead, 53 Hospitalized In Orlando Shooting   \n",
       "2  481702569      This Puzzle Packs Syllables Into Small Spaces   \n",
       "3  481679101  To Fight Floundering Attendance, SeaWorld Turn...   \n",
       "4  481620159  Latinos And American Identity In A Time Of Tru...   \n",
       "\n",
       "                                            category  \\\n",
       "0  [News, Home Page Top Stories, mass shootings, ...   \n",
       "1  [U.S., Weekend Edition Sunday for June 12, 201...   \n",
       "2  [Games & Humor, Weekend Edition Sunday for Jun...   \n",
       "3  [Business, Weekend Edition Sunday for June 12,...   \n",
       "4  [Politics, News, Weekend Edition Sunday for Ju...   \n",
       "\n",
       "                                        top_category  \n",
       "0                     [News, Orlando, America, News]  \n",
       "1              [U.S., Around the Nation, U.S., News]  \n",
       "2                     [Games & Humor, Games & Humor]  \n",
       "3  [Business, Around the Nation, Business, U.S., ...  \n",
       "4  [Politics, News, Elections, Donald Trump, Amer...  "
      ]
     },
     "execution_count": 120,
     "metadata": {},
     "output_type": "execute_result"
    }
   ],
   "source": [
    "df_reshape.head()"
   ]
  },
  {
   "cell_type": "code",
   "execution_count": 121,
   "metadata": {
    "collapsed": true
   },
   "outputs": [],
   "source": [
    "##d3 export:  create a list of pairs of relationships to convert to json\n",
    "\n",
    "pairs_d3 = []"
   ]
  },
  {
   "cell_type": "code",
   "execution_count": 122,
   "metadata": {
    "collapsed": false
   },
   "outputs": [],
   "source": [
    "for category_list in df_reshape['top_category']:\n",
    "    for pair in itertools.combinations(category_list, 2):\n",
    "        if pair not in pairs_d3 and pair[::-1] not in pairs_d3 and pair[0] <> pair[1]:\n",
    "            pairs_d3.append(pair)"
   ]
  },
  {
   "cell_type": "code",
   "execution_count": 123,
   "metadata": {
    "collapsed": false
   },
   "outputs": [],
   "source": [
    "df_d3 = pd.DataFrame(pairs_d3, columns=('source', 'target'))"
   ]
  },
  {
   "cell_type": "code",
   "execution_count": 124,
   "metadata": {
    "collapsed": false
   },
   "outputs": [
    {
     "data": {
      "text/html": [
       "<div>\n",
       "<table border=\"1\" class=\"dataframe\">\n",
       "  <thead>\n",
       "    <tr style=\"text-align: right;\">\n",
       "      <th></th>\n",
       "      <th>source</th>\n",
       "      <th>target</th>\n",
       "    </tr>\n",
       "  </thead>\n",
       "  <tbody>\n",
       "    <tr>\n",
       "      <th>0</th>\n",
       "      <td>News</td>\n",
       "      <td>Orlando</td>\n",
       "    </tr>\n",
       "    <tr>\n",
       "      <th>1</th>\n",
       "      <td>News</td>\n",
       "      <td>America</td>\n",
       "    </tr>\n",
       "    <tr>\n",
       "      <th>2</th>\n",
       "      <td>Orlando</td>\n",
       "      <td>America</td>\n",
       "    </tr>\n",
       "    <tr>\n",
       "      <th>3</th>\n",
       "      <td>U.S.</td>\n",
       "      <td>Around the Nation</td>\n",
       "    </tr>\n",
       "    <tr>\n",
       "      <th>4</th>\n",
       "      <td>U.S.</td>\n",
       "      <td>News</td>\n",
       "    </tr>\n",
       "    <tr>\n",
       "      <th>5</th>\n",
       "      <td>Around the Nation</td>\n",
       "      <td>News</td>\n",
       "    </tr>\n",
       "    <tr>\n",
       "      <th>6</th>\n",
       "      <td>Business</td>\n",
       "      <td>Around the Nation</td>\n",
       "    </tr>\n",
       "    <tr>\n",
       "      <th>7</th>\n",
       "      <td>Business</td>\n",
       "      <td>U.S.</td>\n",
       "    </tr>\n",
       "    <tr>\n",
       "      <th>8</th>\n",
       "      <td>Business</td>\n",
       "      <td>News</td>\n",
       "    </tr>\n",
       "    <tr>\n",
       "      <th>9</th>\n",
       "      <td>Politics</td>\n",
       "      <td>News</td>\n",
       "    </tr>\n",
       "    <tr>\n",
       "      <th>10</th>\n",
       "      <td>Politics</td>\n",
       "      <td>Elections</td>\n",
       "    </tr>\n",
       "    <tr>\n",
       "      <th>11</th>\n",
       "      <td>Politics</td>\n",
       "      <td>Donald Trump</td>\n",
       "    </tr>\n",
       "    <tr>\n",
       "      <th>12</th>\n",
       "      <td>Politics</td>\n",
       "      <td>America</td>\n",
       "    </tr>\n",
       "    <tr>\n",
       "      <th>13</th>\n",
       "      <td>News</td>\n",
       "      <td>Elections</td>\n",
       "    </tr>\n",
       "    <tr>\n",
       "      <th>14</th>\n",
       "      <td>News</td>\n",
       "      <td>Donald Trump</td>\n",
       "    </tr>\n",
       "    <tr>\n",
       "      <th>15</th>\n",
       "      <td>Elections</td>\n",
       "      <td>Donald Trump</td>\n",
       "    </tr>\n",
       "    <tr>\n",
       "      <th>16</th>\n",
       "      <td>Elections</td>\n",
       "      <td>America</td>\n",
       "    </tr>\n",
       "    <tr>\n",
       "      <th>17</th>\n",
       "      <td>Donald Trump</td>\n",
       "      <td>America</td>\n",
       "    </tr>\n",
       "    <tr>\n",
       "      <th>18</th>\n",
       "      <td>Africa</td>\n",
       "      <td>Global Health</td>\n",
       "    </tr>\n",
       "    <tr>\n",
       "      <th>19</th>\n",
       "      <td>Africa</td>\n",
       "      <td>News</td>\n",
       "    </tr>\n",
       "    <tr>\n",
       "      <th>20</th>\n",
       "      <td>Global Health</td>\n",
       "      <td>News</td>\n",
       "    </tr>\n",
       "    <tr>\n",
       "      <th>21</th>\n",
       "      <td>Book Reviews</td>\n",
       "      <td>Books</td>\n",
       "    </tr>\n",
       "    <tr>\n",
       "      <th>22</th>\n",
       "      <td>Book Reviews</td>\n",
       "      <td>Arts &amp; Life</td>\n",
       "    </tr>\n",
       "    <tr>\n",
       "      <th>23</th>\n",
       "      <td>Books</td>\n",
       "      <td>Arts &amp; Life</td>\n",
       "    </tr>\n",
       "    <tr>\n",
       "      <th>24</th>\n",
       "      <td>Politics</td>\n",
       "      <td>Around the Nation</td>\n",
       "    </tr>\n",
       "    <tr>\n",
       "      <th>25</th>\n",
       "      <td>Politics</td>\n",
       "      <td>U.S.</td>\n",
       "    </tr>\n",
       "    <tr>\n",
       "      <th>26</th>\n",
       "      <td>U.S.</td>\n",
       "      <td>Orlando</td>\n",
       "    </tr>\n",
       "    <tr>\n",
       "      <th>27</th>\n",
       "      <td>U.S.</td>\n",
       "      <td>America</td>\n",
       "    </tr>\n",
       "    <tr>\n",
       "      <th>28</th>\n",
       "      <td>Orlando</td>\n",
       "      <td>Around the Nation</td>\n",
       "    </tr>\n",
       "    <tr>\n",
       "      <th>29</th>\n",
       "      <td>America</td>\n",
       "      <td>Around the Nation</td>\n",
       "    </tr>\n",
       "    <tr>\n",
       "      <th>...</th>\n",
       "      <td>...</td>\n",
       "      <td>...</td>\n",
       "    </tr>\n",
       "    <tr>\n",
       "      <th>101</th>\n",
       "      <td>America</td>\n",
       "      <td>Science</td>\n",
       "    </tr>\n",
       "    <tr>\n",
       "      <th>102</th>\n",
       "      <td>Around the Nation</td>\n",
       "      <td>Law</td>\n",
       "    </tr>\n",
       "    <tr>\n",
       "      <th>103</th>\n",
       "      <td>Law</td>\n",
       "      <td>Environment</td>\n",
       "    </tr>\n",
       "    <tr>\n",
       "      <th>104</th>\n",
       "      <td>Law</td>\n",
       "      <td>Science</td>\n",
       "    </tr>\n",
       "    <tr>\n",
       "      <th>105</th>\n",
       "      <td>Law</td>\n",
       "      <td>Business</td>\n",
       "    </tr>\n",
       "    <tr>\n",
       "      <th>106</th>\n",
       "      <td>Law</td>\n",
       "      <td>News</td>\n",
       "    </tr>\n",
       "    <tr>\n",
       "      <th>107</th>\n",
       "      <td>Environment</td>\n",
       "      <td>Science</td>\n",
       "    </tr>\n",
       "    <tr>\n",
       "      <th>108</th>\n",
       "      <td>Environment</td>\n",
       "      <td>Business</td>\n",
       "    </tr>\n",
       "    <tr>\n",
       "      <th>109</th>\n",
       "      <td>Science</td>\n",
       "      <td>Business</td>\n",
       "    </tr>\n",
       "    <tr>\n",
       "      <th>110</th>\n",
       "      <td>Sports</td>\n",
       "      <td>International</td>\n",
       "    </tr>\n",
       "    <tr>\n",
       "      <th>111</th>\n",
       "      <td>Global Health</td>\n",
       "      <td>Health</td>\n",
       "    </tr>\n",
       "    <tr>\n",
       "      <th>112</th>\n",
       "      <td>Global Health</td>\n",
       "      <td>World</td>\n",
       "    </tr>\n",
       "    <tr>\n",
       "      <th>113</th>\n",
       "      <td>Health</td>\n",
       "      <td>World</td>\n",
       "    </tr>\n",
       "    <tr>\n",
       "      <th>114</th>\n",
       "      <td>Elections</td>\n",
       "      <td>U.S.</td>\n",
       "    </tr>\n",
       "    <tr>\n",
       "      <th>115</th>\n",
       "      <td>Donald Trump</td>\n",
       "      <td>U.S.</td>\n",
       "    </tr>\n",
       "    <tr>\n",
       "      <th>116</th>\n",
       "      <td>Remembrances</td>\n",
       "      <td>America</td>\n",
       "    </tr>\n",
       "    <tr>\n",
       "      <th>117</th>\n",
       "      <td>America</td>\n",
       "      <td>Sports</td>\n",
       "    </tr>\n",
       "    <tr>\n",
       "      <th>118</th>\n",
       "      <td>Sports</td>\n",
       "      <td>Around the Nation</td>\n",
       "    </tr>\n",
       "    <tr>\n",
       "      <th>119</th>\n",
       "      <td>Sports</td>\n",
       "      <td>Business</td>\n",
       "    </tr>\n",
       "    <tr>\n",
       "      <th>120</th>\n",
       "      <td>Health</td>\n",
       "      <td>Business</td>\n",
       "    </tr>\n",
       "    <tr>\n",
       "      <th>121</th>\n",
       "      <td>Health Care</td>\n",
       "      <td>Business</td>\n",
       "    </tr>\n",
       "    <tr>\n",
       "      <th>122</th>\n",
       "      <td>Medical Treatments</td>\n",
       "      <td>Business</td>\n",
       "    </tr>\n",
       "    <tr>\n",
       "      <th>123</th>\n",
       "      <td>Environment</td>\n",
       "      <td>International</td>\n",
       "    </tr>\n",
       "    <tr>\n",
       "      <th>124</th>\n",
       "      <td>Environment</td>\n",
       "      <td>World</td>\n",
       "    </tr>\n",
       "    <tr>\n",
       "      <th>125</th>\n",
       "      <td>America</td>\n",
       "      <td>International</td>\n",
       "    </tr>\n",
       "    <tr>\n",
       "      <th>126</th>\n",
       "      <td>America</td>\n",
       "      <td>World</td>\n",
       "    </tr>\n",
       "    <tr>\n",
       "      <th>127</th>\n",
       "      <td>International</td>\n",
       "      <td>Science</td>\n",
       "    </tr>\n",
       "    <tr>\n",
       "      <th>128</th>\n",
       "      <td>Science</td>\n",
       "      <td>World</td>\n",
       "    </tr>\n",
       "    <tr>\n",
       "      <th>129</th>\n",
       "      <td>World</td>\n",
       "      <td>Business</td>\n",
       "    </tr>\n",
       "    <tr>\n",
       "      <th>130</th>\n",
       "      <td>International</td>\n",
       "      <td>Business</td>\n",
       "    </tr>\n",
       "  </tbody>\n",
       "</table>\n",
       "<p>131 rows × 2 columns</p>\n",
       "</div>"
      ],
      "text/plain": [
       "                 source             target\n",
       "0                  News            Orlando\n",
       "1                  News            America\n",
       "2               Orlando            America\n",
       "3                  U.S.  Around the Nation\n",
       "4                  U.S.               News\n",
       "5     Around the Nation               News\n",
       "6              Business  Around the Nation\n",
       "7              Business               U.S.\n",
       "8              Business               News\n",
       "9              Politics               News\n",
       "10             Politics          Elections\n",
       "11             Politics       Donald Trump\n",
       "12             Politics            America\n",
       "13                 News          Elections\n",
       "14                 News       Donald Trump\n",
       "15            Elections       Donald Trump\n",
       "16            Elections            America\n",
       "17         Donald Trump            America\n",
       "18               Africa      Global Health\n",
       "19               Africa               News\n",
       "20        Global Health               News\n",
       "21         Book Reviews              Books\n",
       "22         Book Reviews        Arts & Life\n",
       "23                Books        Arts & Life\n",
       "24             Politics  Around the Nation\n",
       "25             Politics               U.S.\n",
       "26                 U.S.            Orlando\n",
       "27                 U.S.            America\n",
       "28              Orlando  Around the Nation\n",
       "29              America  Around the Nation\n",
       "..                  ...                ...\n",
       "101             America            Science\n",
       "102   Around the Nation                Law\n",
       "103                 Law        Environment\n",
       "104                 Law            Science\n",
       "105                 Law           Business\n",
       "106                 Law               News\n",
       "107         Environment            Science\n",
       "108         Environment           Business\n",
       "109             Science           Business\n",
       "110              Sports      International\n",
       "111       Global Health             Health\n",
       "112       Global Health              World\n",
       "113              Health              World\n",
       "114           Elections               U.S.\n",
       "115        Donald Trump               U.S.\n",
       "116        Remembrances            America\n",
       "117             America             Sports\n",
       "118              Sports  Around the Nation\n",
       "119              Sports           Business\n",
       "120              Health           Business\n",
       "121         Health Care           Business\n",
       "122  Medical Treatments           Business\n",
       "123         Environment      International\n",
       "124         Environment              World\n",
       "125             America      International\n",
       "126             America              World\n",
       "127       International            Science\n",
       "128             Science              World\n",
       "129               World           Business\n",
       "130       International           Business\n",
       "\n",
       "[131 rows x 2 columns]"
      ]
     },
     "execution_count": 124,
     "metadata": {},
     "output_type": "execute_result"
    }
   ],
   "source": [
    "df_d3"
   ]
  },
  {
   "cell_type": "code",
   "execution_count": 125,
   "metadata": {
    "collapsed": true
   },
   "outputs": [],
   "source": [
    "df_d3.to_csv('links.csv')"
   ]
  },
  {
   "cell_type": "code",
   "execution_count": 129,
   "metadata": {
    "collapsed": false
   },
   "outputs": [],
   "source": [
    "nodes = pd.DataFrame()"
   ]
  },
  {
   "cell_type": "code",
   "execution_count": 130,
   "metadata": {
    "collapsed": false
   },
   "outputs": [],
   "source": [
    "nodes['node'] = top_30"
   ]
  },
  {
   "cell_type": "code",
   "execution_count": 131,
   "metadata": {
    "collapsed": false
   },
   "outputs": [
    {
     "data": {
      "text/html": [
       "<div>\n",
       "<table border=\"1\" class=\"dataframe\">\n",
       "  <thead>\n",
       "    <tr style=\"text-align: right;\">\n",
       "      <th></th>\n",
       "      <th>node</th>\n",
       "    </tr>\n",
       "  </thead>\n",
       "  <tbody>\n",
       "    <tr>\n",
       "      <th>0</th>\n",
       "      <td>News</td>\n",
       "    </tr>\n",
       "    <tr>\n",
       "      <th>1</th>\n",
       "      <td>U.S.</td>\n",
       "    </tr>\n",
       "    <tr>\n",
       "      <th>2</th>\n",
       "      <td>Around the Nation</td>\n",
       "    </tr>\n",
       "    <tr>\n",
       "      <th>3</th>\n",
       "      <td>World</td>\n",
       "    </tr>\n",
       "    <tr>\n",
       "      <th>4</th>\n",
       "      <td>Politics</td>\n",
       "    </tr>\n",
       "    <tr>\n",
       "      <th>5</th>\n",
       "      <td>America</td>\n",
       "    </tr>\n",
       "    <tr>\n",
       "      <th>6</th>\n",
       "      <td>Arts &amp; Life</td>\n",
       "    </tr>\n",
       "    <tr>\n",
       "      <th>7</th>\n",
       "      <td>Business</td>\n",
       "    </tr>\n",
       "    <tr>\n",
       "      <th>8</th>\n",
       "      <td>Health</td>\n",
       "    </tr>\n",
       "    <tr>\n",
       "      <th>9</th>\n",
       "      <td>Music</td>\n",
       "    </tr>\n",
       "    <tr>\n",
       "      <th>10</th>\n",
       "      <td>International</td>\n",
       "    </tr>\n",
       "    <tr>\n",
       "      <th>11</th>\n",
       "      <td>Sports</td>\n",
       "    </tr>\n",
       "    <tr>\n",
       "      <th>12</th>\n",
       "      <td>Books</td>\n",
       "    </tr>\n",
       "    <tr>\n",
       "      <th>13</th>\n",
       "      <td>Global Health</td>\n",
       "    </tr>\n",
       "    <tr>\n",
       "      <th>14</th>\n",
       "      <td>Environment</td>\n",
       "    </tr>\n",
       "    <tr>\n",
       "      <th>15</th>\n",
       "      <td>Book Reviews</td>\n",
       "    </tr>\n",
       "    <tr>\n",
       "      <th>16</th>\n",
       "      <td>Author Interviews</td>\n",
       "    </tr>\n",
       "    <tr>\n",
       "      <th>17</th>\n",
       "      <td>Health Care</td>\n",
       "    </tr>\n",
       "    <tr>\n",
       "      <th>18</th>\n",
       "      <td>Race</td>\n",
       "    </tr>\n",
       "    <tr>\n",
       "      <th>19</th>\n",
       "      <td>Science</td>\n",
       "    </tr>\n",
       "    <tr>\n",
       "      <th>20</th>\n",
       "      <td>Games &amp; Humor</td>\n",
       "    </tr>\n",
       "    <tr>\n",
       "      <th>21</th>\n",
       "      <td>Medical Treatments</td>\n",
       "    </tr>\n",
       "    <tr>\n",
       "      <th>22</th>\n",
       "      <td>Donald Trump</td>\n",
       "    </tr>\n",
       "    <tr>\n",
       "      <th>23</th>\n",
       "      <td>Remembrances</td>\n",
       "    </tr>\n",
       "    <tr>\n",
       "      <th>24</th>\n",
       "      <td>Fiction</td>\n",
       "    </tr>\n",
       "    <tr>\n",
       "      <th>25</th>\n",
       "      <td>Orlando</td>\n",
       "    </tr>\n",
       "    <tr>\n",
       "      <th>26</th>\n",
       "      <td>Elections</td>\n",
       "    </tr>\n",
       "    <tr>\n",
       "      <th>27</th>\n",
       "      <td>Africa</td>\n",
       "    </tr>\n",
       "    <tr>\n",
       "      <th>28</th>\n",
       "      <td>Law</td>\n",
       "    </tr>\n",
       "    <tr>\n",
       "      <th>29</th>\n",
       "      <td>Middle East</td>\n",
       "    </tr>\n",
       "  </tbody>\n",
       "</table>\n",
       "</div>"
      ],
      "text/plain": [
       "                  node\n",
       "0                 News\n",
       "1                 U.S.\n",
       "2    Around the Nation\n",
       "3                World\n",
       "4             Politics\n",
       "5              America\n",
       "6          Arts & Life\n",
       "7             Business\n",
       "8               Health\n",
       "9                Music\n",
       "10       International\n",
       "11              Sports\n",
       "12               Books\n",
       "13       Global Health\n",
       "14         Environment\n",
       "15        Book Reviews\n",
       "16   Author Interviews\n",
       "17         Health Care\n",
       "18                Race\n",
       "19             Science\n",
       "20       Games & Humor\n",
       "21  Medical Treatments\n",
       "22        Donald Trump\n",
       "23        Remembrances\n",
       "24             Fiction\n",
       "25             Orlando\n",
       "26           Elections\n",
       "27              Africa\n",
       "28                 Law\n",
       "29         Middle East"
      ]
     },
     "execution_count": 131,
     "metadata": {},
     "output_type": "execute_result"
    }
   ],
   "source": [
    "nodes"
   ]
  },
  {
   "cell_type": "code",
   "execution_count": 132,
   "metadata": {
    "collapsed": true
   },
   "outputs": [],
   "source": [
    "nodes.to_csv('nodes.csv')"
   ]
  },
  {
   "cell_type": "code",
   "execution_count": null,
   "metadata": {
    "collapsed": true
   },
   "outputs": [],
   "source": []
  }
 ],
 "metadata": {
  "kernelspec": {
   "display_name": "Python 2",
   "language": "python",
   "name": "python2"
  },
  "language_info": {
   "codemirror_mode": {
    "name": "ipython",
    "version": 2
   },
   "file_extension": ".py",
   "mimetype": "text/x-python",
   "name": "python",
   "nbconvert_exporter": "python",
   "pygments_lexer": "ipython2",
   "version": "2.7.11"
  }
 },
 "nbformat": 4,
 "nbformat_minor": 0
}
